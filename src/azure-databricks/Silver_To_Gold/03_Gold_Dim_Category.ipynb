{
 "cells": [
  {
   "cell_type": "markdown",
   "metadata": {
    "application/vnd.databricks.v1+cell": {
     "cellMetadata": {},
     "inputWidgets": {},
     "nuid": "cad0e849-3da0-433e-a5ad-dd67137ba2a5",
     "showTitle": false,
     "tableResultSettingsMap": {},
     "title": ""
    }
   },
   "source": [
    "# Creating Category Dimenion Table"
   ]
  },
  {
   "cell_type": "code",
   "execution_count": 0,
   "metadata": {
    "application/vnd.databricks.v1+cell": {
     "cellMetadata": {
      "byteLimit": 2048000,
      "implicitDf": true,
      "rowLimit": 10000
     },
     "inputWidgets": {},
     "nuid": "7bb4557d-532d-4fbd-a8cf-1ed33d095fd6",
     "showTitle": false,
     "tableResultSettingsMap": {},
     "title": ""
    }
   },
   "outputs": [],
   "source": [
    "%sql\n",
    "CREATE TABLE IF NOT EXISTS databricks_catalog.gold.dim_category\n",
    "(\n",
    "  category_id STRING NOT NULL PRIMARY KEY,\n",
    "  product STRING,\n",
    "  sub_product STRING,\n",
    "  issue STRING,\n",
    "  sub_issue STRING\n",
    ")\n",
    "USING DELTA\n",
    "LOCATION 'abfss://gold@rcmadls10dev.dfs.core.windows.net/dim_category';"
   ]
  },
  {
   "cell_type": "code",
   "execution_count": 0,
   "metadata": {
    "application/vnd.databricks.v1+cell": {
     "cellMetadata": {
      "byteLimit": 2048000,
      "implicitDf": true,
      "rowLimit": 10000
     },
     "inputWidgets": {},
     "nuid": "e3c2d9b7-9576-411e-b4c4-36ef45e7580b",
     "showTitle": false,
     "tableResultSettingsMap": {},
     "title": ""
    }
   },
   "outputs": [],
   "source": [
    "%sql\n",
    "-- select category_id, count(category_id) from databricks_catalog.gold.dim_category \n",
    "-- group by category_id\n",
    "-- having count(category_id) > 1\n",
    "-- ;\n",
    "\n",
    "-- drop table databricks_catalog.gold.dim_category;\n",
    "\n",
    "-- truncate table databricks_catalog.gold.dim_category;"
   ]
  },
  {
   "cell_type": "code",
   "execution_count": 0,
   "metadata": {
    "application/vnd.databricks.v1+cell": {
     "cellMetadata": {
      "byteLimit": 2048000,
      "implicitDf": true,
      "rowLimit": 10000
     },
     "inputWidgets": {},
     "nuid": "d91a0d77-844c-4cb8-b5b4-6bba8227c658",
     "showTitle": false,
     "tableResultSettingsMap": {},
     "title": ""
    }
   },
   "outputs": [],
   "source": [
    "%sql\n",
    "WITH deduped_source AS (\n",
    "  SELECT\n",
    "    category_id,\n",
    "    FIRST(product) as product,\n",
    "    FIRST(sub_product) as sub_product,\n",
    "    FIRST(issue) as issue,\n",
    "    FIRST(sub_issue) as sub_issue\n",
    "  FROM databricks_catalog.silver.complaints\n",
    "  WHERE category_id IS NOT NULL\n",
    "  GROUP BY category_id\n",
    ")\n",
    "\n",
    "MERGE INTO databricks_catalog.gold.dim_category TARGET\n",
    "USING deduped_source SOURCE\n",
    "ON TARGET.category_id = SOURCE.category_id\n",
    "WHEN MATCHED THEN\n",
    "  UPDATE SET \n",
    "    TARGET.product = SOURCE.product,\n",
    "    TARGET.sub_product = SOURCE.sub_product,\n",
    "    TARGET.issue = SOURCE.issue,\n",
    "    TARGET.sub_issue = SOURCE.sub_issue\n",
    "WHEN NOT MATCHED THEN\n",
    "  INSERT (category_id, product, sub_product, issue, sub_issue)\n",
    "  VALUES (SOURCE.category_id, SOURCE.product, SOURCE.sub_product, SOURCE.issue, SOURCE.sub_issue)"
   ]
  },
  {
   "cell_type": "code",
   "execution_count": 0,
   "metadata": {
    "application/vnd.databricks.v1+cell": {
     "cellMetadata": {
      "byteLimit": 2048000,
      "implicitDf": true,
      "rowLimit": 10000
     },
     "inputWidgets": {},
     "nuid": "437e0d6e-91e8-48c6-a21b-067ac14b347c",
     "showTitle": false,
     "tableResultSettingsMap": {},
     "title": ""
    }
   },
   "outputs": [],
   "source": [
    "%sql\n",
    "select * from databricks_catalog.gold.dim_category;"
   ]
  },
  {
   "cell_type": "code",
   "execution_count": 0,
   "metadata": {
    "application/vnd.databricks.v1+cell": {
     "cellMetadata": {},
     "inputWidgets": {},
     "nuid": "07e7e6fe-a103-43c2-8861-769a4d4e658e",
     "showTitle": false,
     "tableResultSettingsMap": {},
     "title": ""
    }
   },
   "outputs": [],
   "source": []
  }
 ],
 "metadata": {
  "application/vnd.databricks.v1+notebook": {
   "computePreferences": null,
   "dashboards": [],
   "environmentMetadata": {
    "base_environment": "",
    "environment_version": "2"
   },
   "inputWidgetPreferences": null,
   "language": "python",
   "notebookMetadata": {
    "mostRecentlyExecutedCommandWithImplicitDF": {
     "commandId": 4966992989703875,
     "dataframes": [
      "_sqldf"
     ]
    },
    "pythonIndentUnit": 4
   },
   "notebookName": "03_Gold_Dim_Category",
   "widgets": {
    "incremental_flag": {
     "currentValue": "0",
     "nuid": "3457d429-f1ba-4b3b-80d1-6ef1c49d7df7",
     "typedWidgetInfo": {
      "autoCreated": false,
      "defaultValue": "",
      "label": "",
      "name": "incremental_flag",
      "options": {
       "widgetDisplayType": "Text",
       "validationRegex": null
      },
      "parameterDataType": "String"
     },
     "widgetInfo": {
      "widgetType": "text",
      "defaultValue": "",
      "label": "",
      "name": "incremental_flag",
      "options": {
       "widgetType": "text",
       "autoCreated": false,
       "validationRegex": null
      }
     }
    }
   }
  },
  "language_info": {
   "name": "python"
  }
 },
 "nbformat": 4,
 "nbformat_minor": 0
}
