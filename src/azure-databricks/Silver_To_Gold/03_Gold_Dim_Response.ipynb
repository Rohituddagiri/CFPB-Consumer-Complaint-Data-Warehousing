{
 "cells": [
  {
   "cell_type": "markdown",
   "metadata": {
    "application/vnd.databricks.v1+cell": {
     "cellMetadata": {},
     "inputWidgets": {},
     "nuid": "cad0e849-3da0-433e-a5ad-dd67137ba2a5",
     "showTitle": false,
     "tableResultSettingsMap": {},
     "title": ""
    }
   },
   "source": [
    "# Creating Response Dimenion Table"
   ]
  },
  {
   "cell_type": "code",
   "execution_count": 0,
   "metadata": {
    "application/vnd.databricks.v1+cell": {
     "cellMetadata": {
      "byteLimit": 2048000,
      "implicitDf": true,
      "rowLimit": 10000
     },
     "inputWidgets": {},
     "nuid": "7bb4557d-532d-4fbd-a8cf-1ed33d095fd6",
     "showTitle": false,
     "tableResultSettingsMap": {},
     "title": ""
    }
   },
   "outputs": [],
   "source": [
    "%sql\n",
    "CREATE TABLE IF NOT EXISTS databricks_catalog.gold.dim_response\n",
    "(\n",
    "  response_id STRING NOT NULL PRIMARY KEY,\n",
    "  complaint_number INT,\n",
    "  company_response_to_consumer STRING,\n",
    "  company_public_response STRING,\n",
    "  start_date DATE,\n",
    "  end_date DATE\n",
    ")\n",
    "USING DELTA\n",
    "LOCATION 'abfss://gold@rcmadls10dev.dfs.core.windows.net/dim_response';"
   ]
  },
  {
   "cell_type": "code",
   "execution_count": 0,
   "metadata": {
    "application/vnd.databricks.v1+cell": {
     "cellMetadata": {
      "byteLimit": 2048000,
      "implicitDf": true,
      "rowLimit": 10000
     },
     "inputWidgets": {},
     "nuid": "e3c2d9b7-9576-411e-b4c4-36ef45e7580b",
     "showTitle": false,
     "tableResultSettingsMap": {},
     "title": ""
    }
   },
   "outputs": [],
   "source": [
    "%sql\n",
    "-- select category_id, count(category_id) from databricks_catalog.gold.dim_category \n",
    "-- group by category_id\n",
    "-- having count(category_id) > 1\n",
    "-- ;\n",
    "\n",
    "-- drop table databricks_catalog.gold.dim_category;\n",
    "\n",
    "-- truncate table databricks_catalog.gold.dim_category;"
   ]
  },
  {
   "cell_type": "code",
   "execution_count": 0,
   "metadata": {
    "application/vnd.databricks.v1+cell": {
     "cellMetadata": {
      "byteLimit": 2048000,
      "implicitDf": true,
      "rowLimit": 10000
     },
     "inputWidgets": {},
     "nuid": "d91a0d77-844c-4cb8-b5b4-6bba8227c658",
     "showTitle": false,
     "tableResultSettingsMap": {},
     "title": ""
    }
   },
   "outputs": [],
   "source": [
    "%sql\n",
    "WITH deduped_source AS (\n",
    "  SELECT\n",
    "    response_id,\n",
    "    FIRST(complaint_id) as complaint_id,\n",
    "    FIRST(company_response_to_consumer) as company_response_to_consumer,\n",
    "    FIRST(company_public_response) as company_public_response\n",
    "  FROM databricks_catalog.silver.complaints\n",
    "  WHERE response_id IS NOT NULL\n",
    "  GROUP BY response_id\n",
    "),\n",
    "\n",
    "records_to_update AS (\n",
    "  SELECT\n",
    "    tgt.response_id,\n",
    "    src.complaint_id,\n",
    "    src.company_response_to_consumer,\n",
    "    src.company_public_response\n",
    "  FROM databricks_catalog.gold.dim_response tgt\n",
    "  INNER JOIN deduped_source src\n",
    "    ON tgt.response_id = src.response_id\n",
    "  WHERE tgt.end_date = to_date('2099-12-31') AND (\n",
    "    tgt.company_response_to_consumer <> src.company_response_to_consumer OR\n",
    "    tgt.company_public_response <> src.company_public_response OR\n",
    "    tgt.complaint_number <> src.complaint_id\n",
    "  )\n",
    ")\n",
    "\n",
    "UPDATE\n",
    " databricks_catalog.gold.dim_response\n",
    "SET\n",
    "  end_date = current_date()\n",
    "WHERE response_id IN (SELECT response_id FROM records_to_update)\n",
    "AND end_date = to_date('2099-12-31');"
   ]
  },
  {
   "cell_type": "code",
   "execution_count": 0,
   "metadata": {
    "application/vnd.databricks.v1+cell": {
     "cellMetadata": {
      "byteLimit": 2048000,
      "implicitDf": true,
      "rowLimit": 10000
     },
     "inputWidgets": {},
     "nuid": "7c31a5d6-a337-44b5-a57f-9b146b3f2c6d",
     "showTitle": false,
     "tableResultSettingsMap": {},
     "title": ""
    }
   },
   "outputs": [],
   "source": [
    "%sql\n",
    "WITH deduped_source AS (\n",
    "  SELECT\n",
    "    response_id,\n",
    "    FIRST(complaint_id) as complaint_id,\n",
    "    FIRST(company_response_to_consumer) as company_response_to_consumer,\n",
    "    FIRST(company_public_response) as company_public_response\n",
    "  FROM databricks_catalog.silver.complaints\n",
    "  WHERE response_id IS NOT NULL\n",
    "  GROUP BY response_id\n",
    ")\n",
    "\n",
    "INSERT INTO databricks_catalog.gold.dim_response (response_id, complaint_number, company_response_to_consumer, company_public_response, start_date, end_date)\n",
    "SELECT\n",
    "  src.response_id AS response_id,\n",
    "  src.complaint_id AS complaint_number,\n",
    "  src.company_response_to_consumer AS company_response_to_consumer,\n",
    "  src.company_public_response AS company_public_response,\n",
    "  current_date() AS start_date,\n",
    "  to_date('2099-12-31') AS end_date\n",
    "FROM\n",
    "  deduped_source src\n",
    "LEFT JOIN\n",
    "  databricks_catalog.gold.dim_response tgt\n",
    "ON\n",
    "  src.response_id = tgt.response_id AND tgt.end_date = to_date('2099-12-31')\n",
    "WHERE\n",
    "  tgt.response_id IS NULL -- new response_id\n",
    "  OR (\n",
    "    tgt.complaint_number <> src.complaint_id OR\n",
    "    tgt.company_response_to_consumer <> src.company_response_to_consumer OR\n",
    "    tgt.company_public_response <> src.company_public_response\n",
    "  );\n"
   ]
  },
  {
   "cell_type": "code",
   "execution_count": 0,
   "metadata": {
    "application/vnd.databricks.v1+cell": {
     "cellMetadata": {
      "byteLimit": 2048000,
      "implicitDf": true,
      "rowLimit": 10000
     },
     "inputWidgets": {},
     "nuid": "437e0d6e-91e8-48c6-a21b-067ac14b347c",
     "showTitle": false,
     "tableResultSettingsMap": {},
     "title": ""
    }
   },
   "outputs": [],
   "source": [
    "%sql\n",
    "select * from databricks_catalog.gold.dim_category;"
   ]
  },
  {
   "cell_type": "code",
   "execution_count": 0,
   "metadata": {
    "application/vnd.databricks.v1+cell": {
     "cellMetadata": {},
     "inputWidgets": {},
     "nuid": "07e7e6fe-a103-43c2-8861-769a4d4e658e",
     "showTitle": false,
     "tableResultSettingsMap": {},
     "title": ""
    }
   },
   "outputs": [],
   "source": []
  }
 ],
 "metadata": {
  "application/vnd.databricks.v1+notebook": {
   "computePreferences": null,
   "dashboards": [],
   "environmentMetadata": {
    "base_environment": "",
    "environment_version": "2"
   },
   "inputWidgetPreferences": null,
   "language": "python",
   "notebookMetadata": {
    "mostRecentlyExecutedCommandWithImplicitDF": {
     "commandId": 4966992989703884,
     "dataframes": [
      "_sqldf"
     ]
    },
    "pythonIndentUnit": 4
   },
   "notebookName": "03_Gold_Dim_Response",
   "widgets": {
    "incremental_flag": {
     "currentValue": "0",
     "nuid": "3457d429-f1ba-4b3b-80d1-6ef1c49d7df7",
     "typedWidgetInfo": {
      "autoCreated": false,
      "defaultValue": "",
      "label": "",
      "name": "incremental_flag",
      "options": {
       "widgetDisplayType": "Text",
       "validationRegex": null
      },
      "parameterDataType": "String"
     },
     "widgetInfo": {
      "widgetType": "text",
      "defaultValue": "",
      "label": "",
      "name": "incremental_flag",
      "options": {
       "widgetType": "text",
       "autoCreated": false,
       "validationRegex": null
      }
     }
    }
   }
  },
  "language_info": {
   "name": "python"
  }
 },
 "nbformat": 4,
 "nbformat_minor": 0
}
