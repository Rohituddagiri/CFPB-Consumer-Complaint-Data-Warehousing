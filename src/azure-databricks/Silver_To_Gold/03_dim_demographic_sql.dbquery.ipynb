{
 "cells": [
  {
   "cell_type": "code",
   "execution_count": 0,
   "metadata": {
    "application/vnd.databricks.v1+cell": {
     "cellMetadata": {
      "byteLimit": 10485760,
      "rowLimit": 1000
     },
     "inputWidgets": {},
     "nuid": "caa661e8-04ce-48ae-b8c3-2ed80fe3dc0c",
     "showTitle": false,
     "tableResultSettingsMap": {},
     "title": ""
    }
   },
   "outputs": [],
   "source": [
    "MERGE INTO databricks_catalog.gold.dim_demographic TGT\n",
    "USING (\n",
    "    SELECT DISTINCT\n",
    "        state,\n",
    "        zip_code\n",
    "    FROM databricks_catalog.silver.complaints SRC\n",
    "    WHERE is_latest = true\n",
    ")\n",
    "ON TGT.state = SRC.state AND TGT.zip_code = SRC.zip_code\n",
    "WHEN NOT MATCHED THEN INSERT (state, zip_code) VALUES (SRC.state, SRC.zip_code);"
   ]
  }
 ],
 "metadata": {
  "application/vnd.databricks.v1+notebook": {
   "computePreferences": null,
   "dashboards": [],
   "environmentMetadata": null,
   "inputWidgetPreferences": null,
   "language": "sql",
   "notebookMetadata": {
    "pythonIndentUnit": 4,
    "sqlQueryOptions": {
     "applyAutoLimit": true,
     "catalog": "databricks_ete",
     "schema": "default"
    }
   },
   "notebookName": "03_dim_demographic_sql.dbquery.ipynb",
   "widgets": {}
  },
  "language_info": {
   "name": "sql"
  }
 },
 "nbformat": 4,
 "nbformat_minor": 0
}
