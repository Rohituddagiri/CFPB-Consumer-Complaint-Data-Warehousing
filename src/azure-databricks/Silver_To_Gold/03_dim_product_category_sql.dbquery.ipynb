{
 "cells": [
  {
   "cell_type": "code",
   "execution_count": 0,
   "metadata": {
    "application/vnd.databricks.v1+cell": {
     "cellMetadata": {},
     "inputWidgets": {},
     "nuid": "2e1c9c92-9cee-4a95-85ce-c430339f338d",
     "showTitle": false,
     "tableResultSettingsMap": {},
     "title": ""
    }
   },
   "outputs": [],
   "source": [
    "MERGE INTO databricks_catalog.gold.dim_product_category TGT\n",
    "USING (\n",
    "    SELECT DISTINCT\n",
    "        product,\n",
    "        sub_product\n",
    "    FROM databricks_catalog.silver.complaints SRC\n",
    "    WHERE is_latest = true\n",
    ")\n",
    "ON TGT.product = SRC.product AND TGT.sub_product = SRC.sub_product\n",
    "WHEN NOT MATCHED THEN INSERT (product, sub_product) VALUES (SRC.product, SRC.sub_product);"
   ]
  }
 ],
 "metadata": {
  "application/vnd.databricks.v1+notebook": {
   "computePreferences": null,
   "dashboards": [],
   "environmentMetadata": null,
   "inputWidgetPreferences": null,
   "language": "sql",
   "notebookMetadata": {
    "pythonIndentUnit": 4,
    "sqlQueryOptions": {
     "applyAutoLimit": true,
     "catalog": "databricks_catalog",
     "schema": "gold"
    }
   },
   "notebookName": "03_dim_product_category_sql.dbquery.ipynb",
   "widgets": {}
  },
  "language_info": {
   "name": "sql"
  }
 },
 "nbformat": 4,
 "nbformat_minor": 0
}
