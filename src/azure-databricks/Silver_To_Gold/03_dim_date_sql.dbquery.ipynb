{
 "cells": [
  {
   "cell_type": "code",
   "execution_count": 0,
   "metadata": {
    "application/vnd.databricks.v1+cell": {
     "cellMetadata": {},
     "inputWidgets": {},
     "nuid": "c41d09f5-9871-4ed4-b990-fccd78f8e14b",
     "showTitle": false,
     "tableResultSettingsMap": {},
     "title": ""
    }
   },
   "outputs": [],
   "source": [
    "MERGE INTO databricks_catalog.gold.dim_date AS TGT\n",
    "USING (\n",
    "  SELECT \n",
    "    date_add('2000-01-01', id::INT) as origin_date,\n",
    "    INT(YEAR(date_add('2000-01-01', id::INT))) as year,\n",
    "    INT(MONTH(date_add('2000-01-01', id::INT))) as month,\n",
    "    INT(DAY(date_add('2000-01-01', id::INT))) as day\n",
    "  FROM range(datediff('2030-12-31', '2000-01-01') + 1)\n",
    ") AS SRC\n",
    "ON TGT.origin_date = SRC.origin_date\n",
    "WHEN NOT MATCHED THEN INSERT (origin_date, year, month, day)\n",
    "VALUES (SRC.origin_date, SRC.year, SRC.month, SRC.day);\n",
    "\n",
    "SELECT * FROM dim_date;"
   ]
  }
 ],
 "metadata": {
  "application/vnd.databricks.v1+notebook": {
   "computePreferences": null,
   "dashboards": [],
   "environmentMetadata": null,
   "inputWidgetPreferences": null,
   "language": "sql",
   "notebookMetadata": {
    "pythonIndentUnit": 4,
    "sqlQueryOptions": {
     "applyAutoLimit": true,
     "catalog": "databricks_catalog",
     "schema": "gold"
    }
   },
   "notebookName": "03_dim_date_sql.dbquery.ipynb",
   "widgets": {}
  },
  "language_info": {
   "name": "sql"
  }
 },
 "nbformat": 4,
 "nbformat_minor": 0
}
