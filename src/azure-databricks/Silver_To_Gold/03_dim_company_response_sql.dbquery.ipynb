{
 "cells": [
  {
   "cell_type": "code",
   "execution_count": 0,
   "metadata": {
    "application/vnd.databricks.v1+cell": {
     "cellMetadata": {
      "byteLimit": 10485760,
      "rowLimit": 1000
     },
     "inputWidgets": {},
     "nuid": "4b35fc2b-6393-4d3a-83c3-3a4f98670e0b",
     "showTitle": false,
     "tableResultSettingsMap": {},
     "title": ""
    }
   },
   "outputs": [],
   "source": [
    "MERGE INTO databricks_catalog.gold.dim_company_response TGT\n",
    "USING (\n",
    "    SELECT DISTINCT\n",
    "        company_public_response,\n",
    "        company_response_to_consumer\n",
    "    FROM databricks_catalog.silver.complaints SRC\n",
    "    WHERE is_latest = true\n",
    ")\n",
    "ON TGT.company_public_response = SRC.company_public_response AND TGT.company_response_to_consumer = SRC.company_response_to_consumer\n",
    "WHEN NOT MATCHED THEN INSERT (company_public_response, company_response_to_consumer) VALUES (SRC.company_public_response, SRC.company_response_to_consumer); "
   ]
  }
 ],
 "metadata": {
  "application/vnd.databricks.v1+notebook": {
   "computePreferences": null,
   "dashboards": [],
   "environmentMetadata": null,
   "inputWidgetPreferences": null,
   "language": "sql",
   "notebookMetadata": {
    "pythonIndentUnit": 4,
    "sqlQueryOptions": {
     "applyAutoLimit": true,
     "catalog": "databricks_catalog",
     "schema": "gold"
    }
   },
   "notebookName": "03_dim_company_response_sql.dbquery.ipynb",
   "widgets": {}
  },
  "language_info": {
   "name": "sql"
  }
 },
 "nbformat": 4,
 "nbformat_minor": 0
}
