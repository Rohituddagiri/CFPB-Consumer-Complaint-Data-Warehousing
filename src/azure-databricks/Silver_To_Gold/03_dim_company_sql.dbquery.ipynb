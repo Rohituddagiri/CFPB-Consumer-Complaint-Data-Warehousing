{
 "cells": [
  {
   "cell_type": "code",
   "execution_count": 0,
   "metadata": {
    "application/vnd.databricks.v1+cell": {
     "cellMetadata": {
      "byteLimit": 10485760,
      "rowLimit": 1000
     },
     "inputWidgets": {},
     "nuid": "60e1ebc8-eac6-4eaf-a4f4-49d2a8b1902f",
     "showTitle": false,
     "tableResultSettingsMap": {},
     "title": ""
    }
   },
   "outputs": [],
   "source": [
    "MERGE INTO databricks_catalog.gold.dim_company as TGT\n",
    "USING (\n",
    "    SELECT DISTINCT\n",
    "        company\n",
    "    FROM databricks_catalog.silver.complaints as SRC\n",
    "    WHERE is_latest = true\n",
    ")\n",
    "ON TRIM(TGT.company_name) = TRIM(SRC.company)\n",
    "WHEN NOT MATCHED THEN INSERT (company_name) VALUES (SRC.company);"
   ]
  }
 ],
 "metadata": {
  "application/vnd.databricks.v1+notebook": {
   "computePreferences": null,
   "dashboards": [],
   "environmentMetadata": null,
   "inputWidgetPreferences": null,
   "language": "sql",
   "notebookMetadata": {
    "pythonIndentUnit": 4,
    "sqlQueryOptions": {
     "applyAutoLimit": true,
     "catalog": "databricks_catalog",
     "schema": "gold"
    }
   },
   "notebookName": "03_dim_company_sql.dbquery.ipynb",
   "widgets": {}
  },
  "language_info": {
   "name": "sql"
  }
 },
 "nbformat": 4,
 "nbformat_minor": 0
}
