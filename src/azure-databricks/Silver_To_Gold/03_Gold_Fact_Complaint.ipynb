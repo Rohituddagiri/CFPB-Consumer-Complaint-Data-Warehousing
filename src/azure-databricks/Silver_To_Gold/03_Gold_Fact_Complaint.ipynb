{
 "cells": [
  {
   "cell_type": "markdown",
   "metadata": {
    "application/vnd.databricks.v1+cell": {
     "cellMetadata": {},
     "inputWidgets": {},
     "nuid": "b37891d8-dc2f-4baa-b365-87f6c0f2938d",
     "showTitle": false,
     "tableResultSettingsMap": {},
     "title": ""
    }
   },
   "source": [
    "## Fact Table Modeling"
   ]
  },
  {
   "cell_type": "code",
   "execution_count": 0,
   "metadata": {
    "application/vnd.databricks.v1+cell": {
     "cellMetadata": {
      "byteLimit": 2048000,
      "rowLimit": 10000
     },
     "inputWidgets": {},
     "nuid": "d388dc83-e6e6-4eda-ab56-17c9f430ee9b",
     "showTitle": false,
     "tableResultSettingsMap": {},
     "title": ""
    }
   },
   "outputs": [],
   "source": [
    "last_gold_insert_date = spark.sql(\"select coalesce(max(last_modified_date), timestamp('1900-01-01')) as last_dt from databricks_catalog.gold.fact_complaint\")\n",
    "last_gold_insert_date.display()"
   ]
  },
  {
   "cell_type": "code",
   "execution_count": 0,
   "metadata": {
    "application/vnd.databricks.v1+cell": {
     "cellMetadata": {
      "byteLimit": 2048000,
      "rowLimit": 10000
     },
     "inputWidgets": {},
     "nuid": "9250b5b4-a1d0-4b0f-ab61-5fe31ed0e2d4",
     "showTitle": false,
     "tableResultSettingsMap": {
      "0": {
       "dataGridStateBlob": null,
       "filterBlob": "{\"version\":1,\"filterGroups\":[],\"syncTimestamp\":1749930564291}",
       "queryPlanFiltersBlob": "[]",
       "tableResultIndex": 0
      }
     },
     "title": ""
    }
   },
   "outputs": [],
   "source": [
    "from pyspark.sql.functions import col\n",
    "\n",
    "# spark.sql(\"select * from databricks_catalog.silver.complaints\").withColumn('last_insert_date', col('_metadata.file_modification_time'))\n",
    "\n",
    "stage_silver_latest_df = spark.sql(\"select * from databricks_catalog.silver.complaints\").filter(col('_metadata.file_modification_time') > last_gold_insert_date.select('last_dt').collect()[0][0])\n",
    "stage_silver_latest_df.display()"
   ]
  },
  {
   "cell_type": "code",
   "execution_count": 0,
   "metadata": {
    "application/vnd.databricks.v1+cell": {
     "cellMetadata": {
      "byteLimit": 2048000,
      "rowLimit": 10000
     },
     "inputWidgets": {},
     "nuid": "766f7c9c-6d43-4aa5-8041-ccaa80d5a7a3",
     "showTitle": false,
     "tableResultSettingsMap": {},
     "title": ""
    }
   },
   "outputs": [],
   "source": [
    "stage_silver_latest_df.createOrReplaceTempView('stage_silver_latest')"
   ]
  },
  {
   "cell_type": "code",
   "execution_count": 0,
   "metadata": {
    "application/vnd.databricks.v1+cell": {
     "cellMetadata": {
      "byteLimit": 2048000,
      "rowLimit": 10000
     },
     "inputWidgets": {},
     "nuid": "4de567e0-78ce-4143-ad3c-ab1a962e4b5c",
     "showTitle": false,
     "tableResultSettingsMap": {},
     "title": ""
    }
   },
   "outputs": [
    {
     "output_type": "display_data",
     "data": {
      "text/plain": [
       "Databricks data profile. Run in Databricks to view."
      ]
     },
     "metadata": {
      "application/vnd.databricks.v1.subcommand+json": {
       "baseErrorDetails": null,
       "bindings": {},
       "collapsed": false,
       "command": "%python\nif hasattr(dbutils, \"data\") and hasattr(dbutils.data, \"summarize\"):\n  # setup\n  __data_summary_display_orig = display\n  __data_summary_dfs = []\n  def __data_summary_display_new(df):\n    # add only when result is going to be table type\n    __data_summary_df_modules = [\"pandas.core.frame\", \"databricks.koalas.frame\", \"pyspark.sql.dataframe\", \"pyspark.pandas.frame\", \"pyspark.sql.connect.dataframe\", \"pyspark.sql.classic.dataframe\"]\n    if (type(df).__module__ in __data_summary_df_modules and type(df).__name__ == 'DataFrame') or isinstance(df, list):\n      __data_summary_dfs.append(df)\n  display = __data_summary_display_new\n\n  def __data_summary_user_code_fn():\n    import base64\n    exec(base64.standard_b64decode(\"c3Bhcmsuc3FsKCIiIgogICAgICAgICAgU0VMRUNUIAogICAgICAgICAgICBzYy5jb21wbGFpbnRfaWQgQVMgY29tcGxhaW50X2lkLAogICAgICAgICAgICBkYy5jb21wYW55X2lkIEFTIGNvbXBhbnlfaWQsCiAgICAgICAgICAgIGRkci5kYXRlX2lkIEFTIGRhdGVfcmVjZWl2ZWRfaWQsCiAgICAgICAgICAgIGRzYy5kYXRlX2lkIEFTIGRhdGVfc2VudF90b19jb21wYW55X2lkLAogICAgICAgICAgICBkY3IucmVzcG9uc2VfaWQgQVMgcmVzcG9uc2VfaWQsIAogICAgICAgICAgICBkZC5kZW1vZ3JhcGhpY19pZCBBUyBkZW1vZ3JhcGhpY19pZCwKICAgICAgICAgICAgZGkuaXNzdWVfaWQgQVMgaXNzdWVfaWQsCiAgICAgICAgICAgIGRwLmNhdGVnb3J5X2lkIEFTIHByb2R1Y3RfaWQsCiAgICAgICAgICAgIHNjLmNvbnN1bWVyX2NvbXBsYWludF9uYXJyYXRpdmUgQVMgY29uc3VtZXJfY29tcGxhaW50X25hcnJhdGl2ZSwKICAgICAgICAgICAgc2MuY29uc3VtZXJfY29uc2VudF9wcm92aWRlZCBBUyBjb25zdW1lcl9jb25zZW50X3Byb3ZpZGVkLAogICAgICAgICAgICBzYy5zdWJtaXR0ZWRfdmlhIEFTIHN1Ym1pdHRlZF92aWEsCiAgICAgICAgICAgIHNjLnRpbWVseV9yZXNwb25zZSBBUyB0aW1lbHlfcmVzcG9uc2UsCiAgICAgICAgICAgIC0tIHNjLmNvbnN1bWVyX2Rpc3B1dGVkIEFTIGNvbnN1bWVyX2Rpc3B1dGVkLAogICAgICAgICAgICAnJyBBUyBjb25zdW1lcl9kaXNwdXRlZCwKICAgICAgICAgICAgc2MuUmVzb2x2ZWQgQVMgcmVzb2x2ZWQsCiAgICAgICAgICAgIHNjLmNvbXBsYWludF9hZ2UgQVMgY29tcGxhaW50X2FnZSwKICAgICAgICAgICAgY3VycmVudF90aW1lc3RhbXAoKSBBUyBsYXN0X21vZGlmaWVkX2RhdGUKICAgICAgICAgIEZST00gc3RhZ2Vfc2lsdmVyX2xhdGVzdCBzYwogICAgICAgICAgICBMRUZUIE9VVEVSIEpPSU4gZGF0YWJyaWNrc19jYXRhbG9nLmdvbGQuZGltX2NvbXBhbnkgZGMgT04gc2MuY29tcGFueSA9IGRjLmNvbXBhbnlfbmFtZQogICAgICAgICAgICBMRUZUIE9VVEVSIEpPSU4gZGF0YWJyaWNrc19jYXRhbG9nLmdvbGQuZGltX2NvbXBhbnlfcmVzcG9uc2UgZGNyIAogICAgICAgICAgICBPTiAoc2MuY29tcGFueV9wdWJsaWNfcmVzcG9uc2UgPSBkY3IuY29tcGFueV9wdWJsaWNfcmVzcG9uc2UgT1IgKHNjLmNvbXBhbnlfcHVibGljX3Jlc3BvbnNlIElTIE5VTEwgQU5EIGRjci5jb21wYW55X3B1YmxpY19yZXNwb25zZSBJUyBOVUxMKSkKICAgICAgICAgICAgQU5EIHNjLmNvbXBhbnlfcmVzcG9uc2VfdG9fY29uc3VtZXIgPSBkY3IuY29tcGFueV9yZXNwb25zZV90b19jb25zdW1lcgogICAgICAgICAgICBMRUZUIE9VVEVSIEpPSU4gZGF0YWJyaWNrc19jYXRhbG9nLmdvbGQuZGltX2RhdGUgZGRyIE9OIHNjLmRhdGVfcmVjZWl2ZWQgPSBkZHIub3JpZ2luX2RhdGUKICAgICAgICAgICAgTEVGVCBPVVRFUiBKT0lOIGRhdGFicmlja3NfY2F0YWxvZy5nb2xkLmRpbV9kYXRlIGRzYyBPTiBzYy5kYXRlX3NlbnRfdG9fY29tcGFueSA9IGRzYy5vcmlnaW5fZGF0ZQogICAgICAgICAgICBMRUZUIE9VVEVSIEpPSU4gZGF0YWJyaWNrc19jYXRhbG9nLmdvbGQuZGltX2RlbW9ncmFwaGljIGRkIE9OIHNjLnN0YXRlID0gZGQuc3RhdGUgQU5EIHNjLnppcF9jb2RlID0gZGQuemlwX2NvZGUKICAgICAgICAgICAgTEVGVCBPVVRFUiBKT0lOIGRhdGFicmlja3NfY2F0YWxvZy5nb2xkLmRpbV9pc3N1ZV9jYXRlZ29yeSBkaSBPTiBzYy5pc3N1ZSA9IGRpLmlzc3VlIEFORCBzYy5zdWJfaXNzdWUgPSBkaS5zdWJfaXNzdWUKICAgICAgICAgICAgTEVGVCBPVVRFUiBKT0lOIGRhdGFicmlja3NfY2F0YWxvZy5nb2xkLmRpbV9wcm9kdWN0X2NhdGVnb3J5IGRwIE9OIHNjLnByb2R1Y3QgPSBkcC5wcm9kdWN0IEFORCBzYy5zdWJfcHJvZHVjdCA9IGRwLnN1Yl9wcm9kdWN0CiAgICAgICAgICAiIiIpLmRpc3BsYXkoKQ==\").decode())\n\n  try:\n    # run user code\n    __data_summary_user_code_fn()\n\n    # run on valid tableResultIndex\n    if len(__data_summary_dfs) > 0:\n      # run summarize\n      if type(__data_summary_dfs[0]).__module__ == \"databricks.koalas.frame\":\n        # koalas dataframe\n        dbutils.data.summarize(__data_summary_dfs[0].to_spark())\n      elif type(__data_summary_dfs[0]).__module__ == \"pandas.core.frame\":\n        # pandas dataframe\n        dbutils.data.summarize(spark.createDataFrame(__data_summary_dfs[0]))\n      else:\n        dbutils.data.summarize(__data_summary_dfs[0])\n    else:\n        displayHTML(\"dataframe no longer exists. If you're using dataframe.display(), use display(dataframe) instead.\")\n\n  finally:\n    display = __data_summary_display_orig\n    del __data_summary_display_new\n    del __data_summary_display_orig\n    del __data_summary_dfs\n    del __data_summary_user_code_fn\nelse:\n  print(\"This DBR version does not support data profiles.\")",
       "commandTitle": "Data Profile 1",
       "commandType": "auto",
       "commandVersion": 0,
       "commentThread": [],
       "commentsVisible": false,
       "contentSha256Hex": null,
       "customPlotOptions": {},
       "datasetPreviewNameToCmdIdMap": {},
       "diffDeletes": [],
       "diffInserts": [],
       "displayType": "table",
       "error": null,
       "errorDetails": null,
       "errorSummary": null,
       "errorTraceType": null,
       "finishTime": 1749910354749,
       "globalVars": {},
       "guid": "",
       "height": "auto",
       "hideCommandCode": false,
       "hideCommandResult": false,
       "iPythonMetadata": null,
       "inputWidgets": {},
       "isLockedInExamMode": false,
       "latestUser": "a user",
       "latestUserId": null,
       "listResultMetadata": [
        [
         "table",
         5217
        ],
        [
         "mimeBundle",
         null
        ]
       ],
       "metadata": {
        "byteLimit": 2048000,
        "rowLimit": 10000
       },
       "nuid": "54482194-5ccf-455d-bbd8-051243029b0e",
       "origId": 0,
       "parentHierarchy": [],
       "pivotAggregation": null,
       "pivotColumns": null,
       "position": 4.5,
       "resultDbfsErrorMessage": null,
       "resultDbfsStatus": "INLINED_IN_TREE",
       "results": null,
       "showCommandTitle": false,
       "startTime": 1749910351704,
       "state": "input",
       "streamStates": {},
       "subcommandOptions": null,
       "submitTime": 1749910350940,
       "subtype": "tableResultSubCmd.dataSummary",
       "tableResultIndex": 0,
       "tableResultSettingsMap": {},
       "useConsistentColors": false,
       "version": "CommandV1",
       "width": "auto",
       "workflows": null,
       "xColumns": null,
       "yColumns": null
      }
     },
     "output_type": "display_data"
    }
   ],
   "source": [
    "latest_fact_df = spark.sql(\"\"\"\n",
    "          SELECT \n",
    "            sc.complaint_id AS complaint_id,\n",
    "            dc.company_id AS company_id,\n",
    "            ddr.date_id AS date_received_id,\n",
    "            dsc.date_id AS date_sent_to_company_id,\n",
    "            dcr.response_id AS response_id, \n",
    "            dd.demographic_id AS demographic_id,\n",
    "            di.issue_id AS issue_id,\n",
    "            dp.category_id AS product_id,\n",
    "            sc.consumer_complaint_narrative AS consumer_complaint_narrative,\n",
    "            sc.consumer_consent_provided AS consumer_consent_provided,\n",
    "            sc.submitted_via AS submitted_via,\n",
    "            sc.timely_response AS timely_response,\n",
    "            sc.Resolved AS resolved,\n",
    "            sc.complaint_age AS complaint_age,\n",
    "            current_timestamp() AS last_modified_date\n",
    "          FROM stage_silver_latest sc\n",
    "            LEFT OUTER JOIN databricks_catalog.gold.dim_company dc ON sc.company = dc.company_name\n",
    "            LEFT OUTER JOIN databricks_catalog.gold.dim_company_response dcr ON sc.company_public_response = dcr.company_public_response AND sc.company_response_to_consumer = dcr.company_response_to_consumer\n",
    "            LEFT OUTER JOIN databricks_catalog.gold.dim_date ddr ON sc.date_received = ddr.origin_date\n",
    "            LEFT OUTER JOIN databricks_catalog.gold.dim_date dsc ON sc.date_sent_to_company = dsc.origin_date\n",
    "            LEFT OUTER JOIN databricks_catalog.gold.dim_demographic dd ON sc.state = dd.state AND sc.zip_code = dd.zip_code\n",
    "            LEFT OUTER JOIN databricks_catalog.gold.dim_issue_category di ON sc.issue = di.issue AND sc.sub_issue = di.sub_issue\n",
    "            LEFT OUTER JOIN databricks_catalog.gold.dim_product_category dp ON sc.product = dp.product AND sc.sub_product = dp.sub_product\n",
    "          \"\"\")\n",
    "\n",
    "\n"
   ]
  },
  {
   "cell_type": "code",
   "execution_count": 0,
   "metadata": {
    "application/vnd.databricks.v1+cell": {
     "cellMetadata": {},
     "inputWidgets": {},
     "nuid": "1ba5413a-fca4-463e-91f2-aa83702245fe",
     "showTitle": false,
     "tableResultSettingsMap": {},
     "title": ""
    }
   },
   "outputs": [],
   "source": [
    "from pyspark.sql.functions import col, sum as spark_sum\n",
    "\n",
    "id_columns = ['complaint_id', 'company_id', 'date_received_id', 'date_sent_to_company_id', 'response_id', 'demographic_id', 'issue_id', 'product_id']\n",
    "null_percent_df = latest_fact_df.select([(spark_sum(col(c).isNull().cast(\"int\")) / latest_fact_df.count()).alias(c) for c in id_columns])\n",
    "display(null_percent_df)"
   ]
  },
  {
   "cell_type": "code",
   "execution_count": 0,
   "metadata": {
    "application/vnd.databricks.v1+cell": {
     "cellMetadata": {},
     "inputWidgets": {},
     "nuid": "f59555ec-2ff1-4931-8716-ac434b337f15",
     "showTitle": false,
     "tableResultSettingsMap": {},
     "title": ""
    }
   },
   "outputs": [],
   "source": [
    "latest_fact_df.filter(col('demographic_id').isNull()).display()"
   ]
  },
  {
   "cell_type": "code",
   "execution_count": 0,
   "metadata": {
    "application/vnd.databricks.v1+cell": {
     "cellMetadata": {
      "byteLimit": 2048000,
      "rowLimit": 10000
     },
     "inputWidgets": {},
     "nuid": "727cc64a-d3ad-42f0-a297-a64b0a66bc45",
     "showTitle": false,
     "tableResultSettingsMap": {},
     "title": ""
    }
   },
   "outputs": [],
   "source": [
    "facts_df = spark.sql(\"select * from databricks_catalog.gold.fact_complaint\")"
   ]
  },
  {
   "cell_type": "code",
   "execution_count": 0,
   "metadata": {
    "application/vnd.databricks.v1+cell": {
     "cellMetadata": {
      "byteLimit": 2048000,
      "rowLimit": 10000
     },
     "inputWidgets": {},
     "nuid": "41910088-2d3a-45a2-b0e8-752e21b7116b",
     "showTitle": false,
     "tableResultSettingsMap": {},
     "title": ""
    }
   },
   "outputs": [],
   "source": [
    "from delta.tables import DeltaTable\n",
    "DeltaTable.forPath(spark, 'abfss://gold@rcmadls10dev.dfs.core.windows.net/fact_complaint').alias('target').merge(\n",
    "    latest_fact_df.alias('source'),\n",
    "    'target.complaint_id = source.complaint_id'\n",
    ").whenNotMatchedInsertAll().execute()"
   ]
  }
 ],
 "metadata": {
  "application/vnd.databricks.v1+notebook": {
   "computePreferences": null,
   "dashboards": [],
   "environmentMetadata": {
    "base_environment": "",
    "environment_version": "2"
   },
   "inputWidgetPreferences": null,
   "language": "python",
   "notebookMetadata": {
    "mostRecentlyExecutedCommandWithImplicitDF": {
     "commandId": 6581446419506846,
     "dataframes": [
      "_sqldf"
     ]
    },
    "pythonIndentUnit": 4
   },
   "notebookName": "03_Gold_Fact_Complaint",
   "widgets": {}
  },
  "language_info": {
   "name": "python"
  }
 },
 "nbformat": 4,
 "nbformat_minor": 0
}
