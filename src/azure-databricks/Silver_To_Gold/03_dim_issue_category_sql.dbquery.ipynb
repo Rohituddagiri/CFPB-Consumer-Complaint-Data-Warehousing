{
 "cells": [
  {
   "cell_type": "code",
   "execution_count": 0,
   "metadata": {
    "application/vnd.databricks.v1+cell": {
     "cellMetadata": {
      "byteLimit": 10485760,
      "rowLimit": 1000
     },
     "inputWidgets": {},
     "nuid": "f6ca9a25-17c4-4c55-bb25-2d50f8330a97",
     "showTitle": false,
     "tableResultSettingsMap": {},
     "title": ""
    }
   },
   "outputs": [],
   "source": [
    "MERGE INTO databricks_catalog.gold.dim_issue_category TGT\n",
    "USING (\n",
    "    SELECT DISTINCT\n",
    "        issue,\n",
    "        sub_issue\n",
    "    FROM databricks_catalog.silver.complaints SRC\n",
    "    WHERE is_latest = true\n",
    ")\n",
    "ON TGT.issue = SRC.issue AND TGT.sub_issue = SRC.sub_issue\n",
    "WHEN NOT MATCHED THEN INSERT (issue, sub_issue) VALUES (SRC.issue, SRC.sub_issue);"
   ]
  }
 ],
 "metadata": {
  "application/vnd.databricks.v1+notebook": {
   "computePreferences": null,
   "dashboards": [],
   "environmentMetadata": null,
   "inputWidgetPreferences": null,
   "language": "sql",
   "notebookMetadata": {
    "pythonIndentUnit": 4,
    "sqlQueryOptions": {
     "applyAutoLimit": true,
     "catalog": "databricks_ete",
     "schema": "default"
    }
   },
   "notebookName": "03_dim_issue_category_sql.dbquery.ipynb",
   "widgets": {}
  },
  "language_info": {
   "name": "sql"
  }
 },
 "nbformat": 4,
 "nbformat_minor": 0
}
