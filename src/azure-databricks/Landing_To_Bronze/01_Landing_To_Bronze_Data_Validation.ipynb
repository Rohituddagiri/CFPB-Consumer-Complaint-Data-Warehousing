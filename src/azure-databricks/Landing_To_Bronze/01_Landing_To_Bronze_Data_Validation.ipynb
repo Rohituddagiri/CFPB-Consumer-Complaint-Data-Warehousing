{
 "cells": [
  {
   "cell_type": "markdown",
   "metadata": {
    "application/vnd.databricks.v1+cell": {
     "cellMetadata": {},
     "inputWidgets": {},
     "nuid": "762e00ec-3b85-4477-aded-bc2f5d8e2a5a",
     "showTitle": false,
     "tableResultSettingsMap": {},
     "title": ""
    }
   },
   "source": [
    "### Data Validation"
   ]
  },
  {
   "cell_type": "code",
   "execution_count": 0,
   "metadata": {
    "application/vnd.databricks.v1+cell": {
     "cellMetadata": {
      "byteLimit": 2048000,
      "rowLimit": 10000
     },
     "inputWidgets": {},
     "nuid": "034aab1d-da17-4b67-9594-39df7d3c7787",
     "showTitle": false,
     "tableResultSettingsMap": {},
     "title": ""
    }
   },
   "outputs": [],
   "source": [
    "from pyspark.sql.functions import count, to_date, col, max\n",
    "from pyspark.sql import Row\n",
    "from datetime import datetime"
   ]
  },
  {
   "cell_type": "code",
   "execution_count": 0,
   "metadata": {
    "application/vnd.databricks.v1+cell": {
     "cellMetadata": {
      "byteLimit": 2048000,
      "rowLimit": 10000
     },
     "inputWidgets": {},
     "nuid": "895cbd8a-92de-463c-a434-ab22016bb214",
     "showTitle": false,
     "tableResultSettingsMap": {},
     "title": ""
    }
   },
   "outputs": [],
   "source": [
    "# Read the latest landing data\n",
    "landing_df = spark.read.format(\"csv\")\\\n",
    "    .option(\"header\", \"true\")\\\n",
    "    .option(\"inferSchema\", \"true\")\\\n",
    "    .option(\"multiLine\", \"true\")\\\n",
    "    .option(\"escape\", \"\\\"\")\\\n",
    "    .load(\"abfss://landing@rcmadls10dev.dfs.core.windows.net/complaints\")"
   ]
  },
  {
   "cell_type": "code",
   "execution_count": 0,
   "metadata": {
    "application/vnd.databricks.v1+cell": {
     "cellMetadata": {
      "byteLimit": 2048000,
      "rowLimit": 10000
     },
     "inputWidgets": {},
     "nuid": "759ba6d5-0f34-404a-ab0d-59bb9412357b",
     "showTitle": false,
     "tableResultSettingsMap": {},
     "title": ""
    }
   },
   "outputs": [],
   "source": [
    "# Find the most recent file in landing\n",
    "most_recent_lnd_file_df = landing_df.groupBy(\"_metadata.file_name\", \"_metadata.file_modification_time\").count()\\\n",
    "    .orderBy(col(\"_metadata.file_modification_time\").desc()).limit(1)\n",
    "\n",
    "display(most_recent_lnd_file_df.select(\"file_modification_time\",\"count\"))"
   ]
  },
  {
   "cell_type": "code",
   "execution_count": 0,
   "metadata": {
    "application/vnd.databricks.v1+cell": {
     "cellMetadata": {
      "byteLimit": 2048000,
      "rowLimit": 10000
     },
     "inputWidgets": {},
     "nuid": "8715392b-05d5-41fe-ac59-68240cf59d0d",
     "showTitle": false,
     "tableResultSettingsMap": {},
     "title": ""
    }
   },
   "outputs": [],
   "source": [
    "# Read the bronze layer data\n",
    "bronze_df = spark.read.format(\"parquet\")\\\n",
    "    .load(\"abfss://bronze@rcmadls10dev.dfs.core.windows.net/complaints\")\n",
    "\n"
   ]
  },
  {
   "cell_type": "code",
   "execution_count": 0,
   "metadata": {
    "application/vnd.databricks.v1+cell": {
     "cellMetadata": {
      "byteLimit": 2048000,
      "rowLimit": 10000
     },
     "inputWidgets": {},
     "nuid": "94784183-a740-4579-8ae8-5494fe5311d8",
     "showTitle": false,
     "tableResultSettingsMap": {},
     "title": ""
    }
   },
   "outputs": [],
   "source": [
    "# Find the most recent file in bronze\n",
    "most_recent_brz_file_df = bronze_df.groupBy(\"_metadata.file_name\",\"_metadata.file_modification_time\").count()\\\n",
    "    .orderBy(col(\"_metadata.file_modification_time\").desc()).limit(1)\n",
    "\n",
    "display(most_recent_brz_file_df.select(\"count\"))"
   ]
  },
  {
   "cell_type": "markdown",
   "metadata": {
    "application/vnd.databricks.v1+cell": {
     "cellMetadata": {},
     "inputWidgets": {},
     "nuid": "8348a570-e658-4ae4-9d78-b25d451037bf",
     "showTitle": false,
     "tableResultSettingsMap": {},
     "title": ""
    }
   },
   "source": [
    "### Saving Data Validation to Audit Table"
   ]
  },
  {
   "cell_type": "code",
   "execution_count": 0,
   "metadata": {
    "application/vnd.databricks.v1+cell": {
     "cellMetadata": {
      "byteLimit": 2048000,
      "rowLimit": 10000
     },
     "inputWidgets": {},
     "nuid": "8b7c0bbc-bc87-439c-8c7b-ed4d4058027d",
     "showTitle": false,
     "tableResultSettingsMap": {},
     "title": ""
    }
   },
   "outputs": [],
   "source": [
    "landing_count = most_recent_lnd_file_df.select(\"count\").collect()[0][0]\n",
    "bronze_count = most_recent_brz_file_df.select(\"count\").collect()[0][0]\n",
    "\n",
    "# Prepare validation record\n",
    "validation_result = Row(\n",
    "    validation_date=datetime.now(),\n",
    "    landing_count=landing_count,\n",
    "    bronze_count=bronze_count,\n",
    "    status=\"Success\" if landing_count == bronze_count else \"Failed\"\n",
    ")\n",
    "\n"
   ]
  },
  {
   "cell_type": "code",
   "execution_count": 0,
   "metadata": {
    "application/vnd.databricks.v1+cell": {
     "cellMetadata": {
      "byteLimit": 2048000,
      "rowLimit": 10000
     },
     "inputWidgets": {},
     "nuid": "3f467984-2b1c-428f-9c1d-5f3045eec995",
     "showTitle": false,
     "tableResultSettingsMap": {},
     "title": ""
    }
   },
   "outputs": [],
   "source": [
    "# Convert to DataFrame and save to Audit Delta table\n",
    "validation_df = spark.createDataFrame([validation_result])\n",
    "\n",
    "validation_df.write.format(\"delta\")\\\n",
    "    .mode(\"append\")\\\n",
    "    .save(\"abfss://bronze@rcmadls10dev.dfs.core.windows.net/audit_complaints\")"
   ]
  },
  {
   "cell_type": "code",
   "execution_count": 0,
   "metadata": {
    "application/vnd.databricks.v1+cell": {
     "cellMetadata": {
      "byteLimit": 2048000,
      "implicitDf": true,
      "rowLimit": 10000
     },
     "inputWidgets": {},
     "nuid": "a0a554a3-0f0d-4a81-9f1d-0ee0e3cf31af",
     "showTitle": false,
     "tableResultSettingsMap": {},
     "title": ""
    }
   },
   "outputs": [],
   "source": [
    "%sql\n",
    "create table if not exists databricks_catalog.bronze.audit_complaints\n",
    "using delta\n",
    "location 'abfss://bronze@rcmadls10dev.dfs.core.windows.net/audit_complaints';"
   ]
  }
 ],
 "metadata": {
  "application/vnd.databricks.v1+notebook": {
   "computePreferences": null,
   "dashboards": [],
   "environmentMetadata": {
    "base_environment": "",
    "environment_version": "2"
   },
   "inputWidgetPreferences": null,
   "language": "python",
   "notebookMetadata": {
    "mostRecentlyExecutedCommandWithImplicitDF": {
     "commandId": 5937371854930337,
     "dataframes": [
      "_sqldf"
     ]
    },
    "pythonIndentUnit": 4
   },
   "notebookName": "01_Landing_To_Bronze_Data_Validation",
   "widgets": {}
  },
  "language_info": {
   "name": "python"
  }
 },
 "nbformat": 4,
 "nbformat_minor": 0
}
