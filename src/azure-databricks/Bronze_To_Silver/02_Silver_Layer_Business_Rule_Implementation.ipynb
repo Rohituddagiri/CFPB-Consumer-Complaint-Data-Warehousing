{
 "cells": [
  {
   "cell_type": "code",
   "execution_count": 0,
   "metadata": {
    "application/vnd.databricks.v1+cell": {
     "cellMetadata": {
      "byteLimit": 2048000,
      "rowLimit": 10000
     },
     "inputWidgets": {},
     "nuid": "4a49ca1e-7a1d-4ed5-859f-d6ceb7e2a772",
     "showTitle": false,
     "tableResultSettingsMap": {},
     "title": ""
    }
   },
   "outputs": [],
   "source": [
    "from pyspark.sql.functions import when, max, col, year, month, date_diff, lit"
   ]
  },
  {
   "cell_type": "code",
   "execution_count": 0,
   "metadata": {
    "application/vnd.databricks.v1+cell": {
     "cellMetadata": {
      "byteLimit": 2048000,
      "rowLimit": 10000
     },
     "inputWidgets": {},
     "nuid": "37b86ae9-43f9-4073-b6b8-2347d02840cb",
     "showTitle": false,
     "tableResultSettingsMap": {},
     "title": ""
    }
   },
   "outputs": [],
   "source": [
    "# %run ./02_Silver_Layer_Data_Processing"
   ]
  },
  {
   "cell_type": "markdown",
   "metadata": {
    "application/vnd.databricks.v1+cell": {
     "cellMetadata": {
      "byteLimit": 2048000,
      "rowLimit": 10000
     },
     "inputWidgets": {},
     "nuid": "4e968977-c64f-4eb9-a138-e84025b9258b",
     "showTitle": false,
     "tableResultSettingsMap": {},
     "title": ""
    }
   },
   "source": [
    "## Business Rule Implementations"
   ]
  },
  {
   "cell_type": "code",
   "execution_count": 0,
   "metadata": {
    "application/vnd.databricks.v1+cell": {
     "cellMetadata": {
      "byteLimit": 2048000,
      "rowLimit": 10000
     },
     "inputWidgets": {},
     "nuid": "dea52677-cc37-4f65-ac5c-62f95269fbe4",
     "showTitle": false,
     "tableResultSettingsMap": {},
     "title": ""
    }
   },
   "outputs": [],
   "source": [
    "br_streaming_df = spark.readStream.format(\"delta\")\\\n",
    "  .option(\"cloudFiles.schemaLocation\", \"abfss://silver@rcmadls10dev.dfs.core.windows.net/checkpoint_br_complaints\")\\\n",
    "  .load(\"abfss://silver@rcmadls10dev.dfs.core.windows.net/processed_complaints\")"
   ]
  },
  {
   "cell_type": "markdown",
   "metadata": {
    "application/vnd.databricks.v1+cell": {
     "cellMetadata": {
      "byteLimit": 2048000,
      "rowLimit": 10000
     },
     "inputWidgets": {},
     "nuid": "53a68230-02f1-4870-9b58-84142c70fb43",
     "showTitle": false,
     "tableResultSettingsMap": {},
     "title": ""
    }
   },
   "source": [
    "### Adding a Resolved column\n",
    "Add a column to show if the complaint has been resolved (e.g., based on Company response)."
   ]
  },
  {
   "cell_type": "code",
   "execution_count": 0,
   "metadata": {
    "application/vnd.databricks.v1+cell": {
     "cellMetadata": {
      "byteLimit": 2048000,
      "rowLimit": 10000
     },
     "inputWidgets": {},
     "nuid": "4ab3deaa-9343-4691-90db-6589a3a58887",
     "showTitle": false,
     "tableResultSettingsMap": {},
     "title": ""
    }
   },
   "outputs": [],
   "source": [
    "br_streaming_df = br_streaming_df.withColumn('Resolved', col('company_response_to_consumer').rlike(\"Closed\"))"
   ]
  },
  {
   "cell_type": "markdown",
   "metadata": {
    "application/vnd.databricks.v1+cell": {
     "cellMetadata": {
      "byteLimit": 2048000,
      "rowLimit": 10000
     },
     "inputWidgets": {},
     "nuid": "30122869-819e-442a-98e0-ff39a5ce39ab",
     "showTitle": false,
     "tableResultSettingsMap": {},
     "title": ""
    }
   },
   "source": [
    "%md\n",
    "### Adding Year Received and month received column"
   ]
  },
  {
   "cell_type": "code",
   "execution_count": 0,
   "metadata": {
    "application/vnd.databricks.v1+cell": {
     "cellMetadata": {
      "byteLimit": 2048000,
      "rowLimit": 10000
     },
     "inputWidgets": {},
     "nuid": "e5ee98d0-5c45-4cfb-8fad-fcb2c4e78e8d",
     "showTitle": false,
     "tableResultSettingsMap": {},
     "title": ""
    }
   },
   "outputs": [],
   "source": [
    "br_streaming_df = br_streaming_df.withColumn('year_received', year(br_streaming_df.date_received))\\\n",
    "                .withColumn('month_received',month(br_streaming_df.date_received))"
   ]
  },
  {
   "cell_type": "markdown",
   "metadata": {
    "application/vnd.databricks.v1+cell": {
     "cellMetadata": {
      "byteLimit": 2048000,
      "rowLimit": 10000
     },
     "inputWidgets": {},
     "nuid": "41329649-6dcb-4246-98eb-a190981e4170",
     "showTitle": false,
     "tableResultSettingsMap": {},
     "title": ""
    }
   },
   "source": [
    "### Adding Complaint Age Column\n",
    "Calculate how long it took to resolve a complaint (Date sent to company - Date received)."
   ]
  },
  {
   "cell_type": "code",
   "execution_count": 0,
   "metadata": {
    "application/vnd.databricks.v1+cell": {
     "cellMetadata": {
      "byteLimit": 2048000,
      "rowLimit": 10000
     },
     "inputWidgets": {},
     "nuid": "598f3628-6b2d-4628-a19f-87a98804dfb1",
     "showTitle": false,
     "tableResultSettingsMap": {},
     "title": ""
    }
   },
   "outputs": [],
   "source": [
    "br_streaming_df = br_streaming_df.withColumn('complaint_age', date_diff(br_streaming_df.date_sent_to_company, br_streaming_df.date_received))"
   ]
  },
  {
   "cell_type": "markdown",
   "metadata": {
    "application/vnd.databricks.v1+cell": {
     "cellMetadata": {
      "byteLimit": 2048000,
      "rowLimit": 10000
     },
     "inputWidgets": {},
     "nuid": "55d3fd83-fb70-4c65-8c79-17fc8d3ea717",
     "showTitle": false,
     "tableResultSettingsMap": {},
     "title": ""
    }
   },
   "source": [
    "### Adding is_latest_record column"
   ]
  },
  {
   "cell_type": "code",
   "execution_count": 0,
   "metadata": {
    "application/vnd.databricks.v1+cell": {
     "cellMetadata": {
      "byteLimit": 2048000,
      "rowLimit": 10000
     },
     "inputWidgets": {},
     "nuid": "a4636a72-31d7-4921-80cc-3c7174a9aa2a",
     "showTitle": false,
     "tableResultSettingsMap": {},
     "title": ""
    }
   },
   "outputs": [],
   "source": [
    "br_streaming_df = br_streaming_df.withColumn('is_latest', lit(True))"
   ]
  },
  {
   "cell_type": "code",
   "execution_count": 0,
   "metadata": {
    "application/vnd.databricks.v1+cell": {
     "cellMetadata": {
      "byteLimit": 2048000,
      "rowLimit": 10000
     },
     "inputWidgets": {},
     "nuid": "bc2abba0-11dc-4821-908a-815c4fb11b99",
     "showTitle": false,
     "tableResultSettingsMap": {},
     "title": ""
    }
   },
   "outputs": [],
   "source": [
    "from delta.tables import DeltaTable\n",
    "\n",
    "def upsert_is_latest(batch_df, batch_id):\n",
    "\n",
    "    # batch_df = batch_df.withColumn('is_latest',lit(True))\n",
    "\n",
    "    if DeltaTable.isDeltaTable(spark, \"abfss://silver@rcmadls10dev.dfs.core.windows.net/br_complaints\"):\n",
    "        delta_table = DeltaTable.forPath(spark, \"abfss://silver@rcmadls10dev.dfs.core.windows.net/br_complaints\")\n",
    "\n",
    "        # updated_ids = batch_df.select('complaint_id').distinct()\n",
    "\n",
    "        delta_table.alias(\"target\")\\\n",
    "            .merge(\n",
    "                batch_df.select('complaint_id').distinct().alias(\"source\"), \n",
    "                \"target.complaint_id = source.complaint_id AND target.is_latest = true\")\\\n",
    "            .whenMatchedUpdate(set={\"is_latest\": lit(False)})\\\n",
    "            .execute()\n",
    "        \n",
    "        batch_df.write.format(\"delta\")\\\n",
    "            .mode(\"append\")\\\n",
    "            .partitionBy(\"year_received\",\"month_received\")\\\n",
    "            .save(\"abfss://silver@rcmadls10dev.dfs.core.windows.net/br_complaints\")\n",
    "\n",
    "    else:\n",
    "        batch_df\\\n",
    "            .write.format(\"delta\")\\\n",
    "            .mode(\"overwrite\")\\\n",
    "            .partitionBy(\"year_received\",\"month_received\")\\\n",
    "            .save(\"abfss://silver@rcmadls10dev.dfs.core.windows.net/br_complaints\")"
   ]
  },
  {
   "cell_type": "markdown",
   "metadata": {
    "application/vnd.databricks.v1+cell": {
     "cellMetadata": {
      "byteLimit": 2048000,
      "rowLimit": 10000
     },
     "inputWidgets": {},
     "nuid": "f829b6d9-62d9-4f48-905f-343f895ddda5",
     "showTitle": false,
     "tableResultSettingsMap": {},
     "title": ""
    }
   },
   "source": [
    "## Load processed data into silver container"
   ]
  },
  {
   "cell_type": "code",
   "execution_count": 0,
   "metadata": {
    "application/vnd.databricks.v1+cell": {
     "cellMetadata": {
      "byteLimit": 2048000,
      "rowLimit": 10000
     },
     "inputWidgets": {},
     "nuid": "5c580dda-c01b-475e-9d79-f9c123dfc0c1",
     "showTitle": false,
     "tableResultSettingsMap": {},
     "title": ""
    }
   },
   "outputs": [],
   "source": [
    "\n",
    "br_streaming_df.writeStream\\\n",
    "  .foreachBatch(upsert_is_latest)\\\n",
    "  .option(\"checkpointLocation\",\"abfss://silver@rcmadls10dev.dfs.core.windows.net/checkpoint_br_complaints\")\\\n",
    "  .trigger(once=True)\\\n",
    "  .start()"
   ]
  }
 ],
 "metadata": {
  "application/vnd.databricks.v1+notebook": {
   "computePreferences": null,
   "dashboards": [],
   "environmentMetadata": {
    "base_environment": "",
    "environment_version": "2"
   },
   "inputWidgetPreferences": null,
   "language": "python",
   "notebookMetadata": {
    "mostRecentlyExecutedCommandWithImplicitDF": {
     "commandId": 5937371854930334,
     "dataframes": [
      "_sqldf"
     ]
    },
    "pythonIndentUnit": 4
   },
   "notebookName": "02_Silver_Layer_Business_Rule_Implementation",
   "widgets": {}
  },
  "language_info": {
   "name": "python"
  }
 },
 "nbformat": 4,
 "nbformat_minor": 0
}
