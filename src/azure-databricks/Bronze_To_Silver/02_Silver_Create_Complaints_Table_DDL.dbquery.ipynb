{
 "cells": [
  {
   "cell_type": "code",
   "execution_count": 0,
   "metadata": {
    "application/vnd.databricks.v1+cell": {
     "cellMetadata": {
      "byteLimit": 10485760,
      "rowLimit": 1000
     },
     "inputWidgets": {},
     "nuid": "0eb79601-23d3-440b-8dcf-15dc7ba756a8",
     "showTitle": false,
     "tableResultSettingsMap": {},
     "title": ""
    }
   },
   "outputs": [],
   "source": [
    "drop table if exists databricks_catalog.silver.complaints;\n",
    "\n",
    "CREATE TABLE IF NOT EXISTS databricks_catalog.silver.complaints\n",
    "USING DELTA\n",
    "LOCATION 'abfss://silver@rcmadls10dev.dfs.core.windows.net/br_complaints';"
   ]
  }
 ],
 "metadata": {
  "application/vnd.databricks.v1+notebook": {
   "computePreferences": null,
   "dashboards": [],
   "environmentMetadata": null,
   "inputWidgetPreferences": null,
   "language": "sql",
   "notebookMetadata": {
    "pythonIndentUnit": 4,
    "sqlQueryOptions": {
     "applyAutoLimit": true,
     "catalog": "databricks_catalog",
     "schema": "silver"
    }
   },
   "notebookName": "02_Silver_Create_Complaints_Table_DDL.dbquery.ipynb",
   "widgets": {}
  },
  "language_info": {
   "name": "sql"
  }
 },
 "nbformat": 4,
 "nbformat_minor": 0
}
