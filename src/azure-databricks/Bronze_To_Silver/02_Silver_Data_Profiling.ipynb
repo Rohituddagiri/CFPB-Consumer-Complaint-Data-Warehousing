{
 "cells": [
  {
   "cell_type": "code",
   "execution_count": 0,
   "metadata": {
    "application/vnd.databricks.v1+cell": {
     "cellMetadata": {
      "byteLimit": 2048000,
      "rowLimit": 10000
     },
     "inputWidgets": {},
     "nuid": "4622cf0b-fdf7-4bc1-8f98-6c0f336c983c",
     "showTitle": false,
     "tableResultSettingsMap": {},
     "title": ""
    }
   },
   "outputs": [],
   "source": [
    "data_from_bronze = spark.read.format(\"parquet\")\\\n",
    "                    .load(\"abfss://bronze@rcmadls10dev.dfs.core.windows.net/complaints\")"
   ]
  },
  {
   "cell_type": "code",
   "execution_count": 0,
   "metadata": {
    "application/vnd.databricks.v1+cell": {
     "cellMetadata": {
      "byteLimit": 2048000,
      "rowLimit": 10000
     },
     "inputWidgets": {},
     "nuid": "199e253b-4d07-42f3-a7ea-33c1dd3b9632",
     "showTitle": false,
     "tableResultSettingsMap": {},
     "title": ""
    }
   },
   "outputs": [
    {
     "output_type": "display_data",
     "data": {
      "text/plain": [
       "Databricks data profile. Run in Databricks to view."
      ]
     },
     "metadata": {
      "application/vnd.databricks.v1.subcommand+json": {
       "baseErrorDetails": null,
       "bindings": {},
       "collapsed": false,
       "command": "%python\nif hasattr(dbutils, \"data\") and hasattr(dbutils.data, \"summarize\"):\n  # setup\n  __data_summary_display_orig = display\n  __data_summary_dfs = []\n  def __data_summary_display_new(df):\n    # add only when result is going to be table type\n    __data_summary_df_modules = [\"pandas.core.frame\", \"databricks.koalas.frame\", \"pyspark.sql.dataframe\", \"pyspark.pandas.frame\", \"pyspark.sql.connect.dataframe\", \"pyspark.sql.classic.dataframe\"]\n    if (type(df).__module__ in __data_summary_df_modules and type(df).__name__ == 'DataFrame') or isinstance(df, list):\n      __data_summary_dfs.append(df)\n  display = __data_summary_display_new\n\n  def __data_summary_user_code_fn():\n    import base64\n    exec(base64.standard_b64decode(\"ZnJvbSBweXNwYXJrLnNxbC5mdW5jdGlvbnMgaW1wb3J0IGNvbCwgbWF4CgpsYXN0X2xvYWRfdGltZSA9IGRhdGFfZnJvbV9icm9uemUuYWdnKG1heChjb2woJ19tZXRhZGF0YS5maWxlX21vZGlmaWNhdGlvbl90aW1lJykpKS5jb2xsZWN0KClbMF1bMF0KCmxhc3RfYnJvbnplX2xvYWRfZGYgPSBkYXRhX2Zyb21fYnJvbnplLmZpbHRlcihjb2woJ19tZXRhZGF0YS5maWxlX21vZGlmaWNhdGlvbl90aW1lJykgPT0gbGFzdF9sb2FkX3RpbWUpCmRpc3BsYXkobGFzdF9icm9uemVfbG9hZF9kZik=\").decode())\n\n  try:\n    # run user code\n    __data_summary_user_code_fn()\n\n    # run on valid tableResultIndex\n    if len(__data_summary_dfs) > 0:\n      # run summarize\n      if type(__data_summary_dfs[0]).__module__ == \"databricks.koalas.frame\":\n        # koalas dataframe\n        dbutils.data.summarize(__data_summary_dfs[0].to_spark())\n      elif type(__data_summary_dfs[0]).__module__ == \"pandas.core.frame\":\n        # pandas dataframe\n        dbutils.data.summarize(spark.createDataFrame(__data_summary_dfs[0]))\n      else:\n        dbutils.data.summarize(__data_summary_dfs[0])\n    else:\n        displayHTML(\"dataframe no longer exists. If you're using dataframe.display(), use display(dataframe) instead.\")\n\n  finally:\n    display = __data_summary_display_orig\n    del __data_summary_display_new\n    del __data_summary_display_orig\n    del __data_summary_dfs\n    del __data_summary_user_code_fn\nelse:\n  print(\"This DBR version does not support data profiles.\")",
       "commandTitle": "Data Profile 1",
       "commandType": "auto",
       "commandVersion": 0,
       "commentThread": [],
       "commentsVisible": false,
       "contentSha256Hex": null,
       "customPlotOptions": {},
       "datasetPreviewNameToCmdIdMap": {},
       "diffDeletes": [],
       "diffInserts": [],
       "displayType": "table",
       "error": null,
       "errorDetails": null,
       "errorSummary": null,
       "errorTraceType": null,
       "finishTime": 1749948977648,
       "globalVars": {},
       "guid": "",
       "height": "auto",
       "hideCommandCode": false,
       "hideCommandResult": false,
       "iPythonMetadata": null,
       "inputWidgets": {},
       "isLockedInExamMode": false,
       "latestUser": "a user",
       "latestUserId": null,
       "listResultMetadata": [
        [
         "mimeBundle",
         null
        ]
       ],
       "metadata": {
        "byteLimit": 2048000,
        "rowLimit": 10000
       },
       "nuid": "39dc911c-bfdc-4f42-b9c0-f54cebbd181e",
       "origId": 0,
       "parentHierarchy": [],
       "pivotAggregation": null,
       "pivotColumns": null,
       "position": 1.75,
       "resultDbfsErrorMessage": null,
       "resultDbfsStatus": "INLINED_IN_TREE",
       "results": null,
       "showCommandTitle": false,
       "startTime": 1749948965467,
       "state": "input",
       "streamStates": {},
       "subcommandOptions": null,
       "submitTime": 1749948964460,
       "subtype": "tableResultSubCmd.dataSummary",
       "tableResultIndex": 0,
       "tableResultSettingsMap": {},
       "useConsistentColors": false,
       "version": "CommandV1",
       "width": "auto",
       "workflows": null,
       "xColumns": null,
       "yColumns": null
      }
     },
     "output_type": "display_data"
    }
   ],
   "source": [
    "from pyspark.sql.functions import col, max\n",
    "\n",
    "last_load_time = data_from_bronze.agg(max(col('_metadata.file_modification_time'))).collect()[0][0]\n",
    "\n",
    "last_bronze_load_df = data_from_bronze.filter(col('_metadata.file_modification_time') == last_load_time)\n",
    "display(last_bronze_load_df)"
   ]
  },
  {
   "cell_type": "code",
   "execution_count": 0,
   "metadata": {
    "application/vnd.databricks.v1+cell": {
     "cellMetadata": {
      "byteLimit": 2048000,
      "rowLimit": 10000
     },
     "inputWidgets": {},
     "nuid": "3505bc41-0210-4a68-a6a2-292b43daedbd",
     "showTitle": false,
     "tableResultSettingsMap": {},
     "title": ""
    }
   },
   "outputs": [
    {
     "output_type": "display_data",
     "data": {
      "text/plain": [
       "Databricks visualization. Run in Databricks to view."
      ]
     },
     "metadata": {
      "application/vnd.databricks.v1.subcommand+json": {
       "baseErrorDetails": null,
       "bindings": {},
       "collapsed": false,
       "command": "%python\n__backend_agg_display_orig = display\n__backend_agg_dfs = []\ndef __backend_agg_display_new(df):\n    __backend_agg_df_modules = [\"pandas.core.frame\", \"databricks.koalas.frame\", \"pyspark.sql.dataframe\", \"pyspark.pandas.frame\", \"pyspark.sql.connect.dataframe\"]\n    if (type(df).__module__ in __backend_agg_df_modules and type(df).__name__ == 'DataFrame') or isinstance(df, list):\n        __backend_agg_dfs.append(df)\n\ndisplay = __backend_agg_display_new\n\ndef __backend_agg_user_code_fn():\n    import base64\n    exec(base64.standard_b64decode(\"ZGYgPSBzcGFyay5zcWwoInNlbGVjdCBpc19sYXRlc3QsIGNvdW50KCopIGZyb20gZGF0YWJyaWNrc19jYXRhbG9nLnNpbHZlci5jb21wbGFpbnRzIGdyb3VwIGJ5IGlzX2xhdGVzdCIpCmRpc3BsYXkoZGYp\").decode())\n\ntry:\n    # run user code\n    __backend_agg_user_code_fn()\n\n    #reset display function\n    display = __backend_agg_display_orig\n\n    if len(__backend_agg_dfs) > 0:\n        # create a temp view\n        if type(__backend_agg_dfs[0]).__module__ == \"databricks.koalas.frame\":\n            # koalas dataframe\n            __backend_agg_dfs[0].to_spark().createOrReplaceTempView(\"DatabricksView6727870\")\n        elif type(__backend_agg_dfs[0]).__module__ == \"pandas.core.frame\" or isinstance(__backend_agg_dfs[0], list):\n            # pandas dataframe\n            spark.createDataFrame(__backend_agg_dfs[0]).createOrReplaceTempView(\"DatabricksView6727870\")\n        else:\n            __backend_agg_dfs[0].createOrReplaceTempView(\"DatabricksView6727870\")\n        #run backend agg\n        display(spark.sql(\"\"\"WITH q AS (select * from DatabricksView6727870) SELECT `is_latest`,SUM(`count(*)`) `column_dcd950db98` FROM q GROUP BY `is_latest`\"\"\"))\n    else:\n        displayHTML(\"dataframe no longer exists. If you're using dataframe.display(), use display(dataframe) instead.\")\n\n\nfinally:\n    spark.sql(\"drop view if exists DatabricksView6727870\")\n    display = __backend_agg_display_orig\n    del __backend_agg_display_new\n    del __backend_agg_display_orig\n    del __backend_agg_dfs\n    del __backend_agg_user_code_fn\n\n",
       "commandTitle": "Number of latest records",
       "commandType": "auto",
       "commandVersion": 0,
       "commentThread": [],
       "commentsVisible": false,
       "contentSha256Hex": null,
       "customPlotOptions": {
        "redashChart": [
         {
          "key": "type",
          "value": "CHART"
         },
         {
          "key": "options",
          "value": {
           "alignYAxesAtZero": true,
           "coefficient": 1,
           "columnConfigurationMap": {
            "x": {
             "column": "is_latest",
             "id": "column_dcd950db97"
            },
            "y": [
             {
              "column": "count(*)",
              "id": "column_dcd950db98",
              "transform": "SUM"
             }
            ]
           },
           "dateTimeFormat": "DD/MM/YYYY HH:mm",
           "direction": {
            "type": "counterclockwise"
           },
           "error_y": {
            "type": "data",
            "visible": true
           },
           "globalSeriesType": "pie",
           "legend": {
            "traceorder": "normal"
           },
           "missingValuesAsZero": true,
           "numberFormat": "0,0.[00000]",
           "percentFormat": "0[.]00%",
           "series": {
            "error_y": {
             "type": "data",
             "visible": true
            },
            "stacking": null
           },
           "seriesOptions": {
            "column_dcd950db98": {
             "name": "count(*)",
             "type": "pie",
             "yAxis": 0
            }
           },
           "showDataLabels": true,
           "sizemode": "diameter",
           "sortX": true,
           "sortY": true,
           "swappedAxes": false,
           "textFormat": "",
           "useAggregationsUi": true,
           "valuesOptions": {},
           "version": 2,
           "xAxis": {
            "labels": {
             "enabled": true
            },
            "type": "-"
           },
           "yAxis": [
            {
             "type": "-"
            },
            {
             "opposite": true,
             "type": "-"
            }
           ]
          }
         }
        ]
       },
       "datasetPreviewNameToCmdIdMap": {},
       "diffDeletes": [],
       "diffInserts": [],
       "displayType": "redashChart",
       "error": null,
       "errorDetails": null,
       "errorSummary": null,
       "errorTraceType": null,
       "finishTime": 0,
       "globalVars": {},
       "guid": "",
       "height": "auto",
       "hideCommandCode": false,
       "hideCommandResult": false,
       "iPythonMetadata": null,
       "inputWidgets": {},
       "isLockedInExamMode": false,
       "latestUser": "a user",
       "latestUserId": null,
       "listResultMetadata": null,
       "metadata": {},
       "nuid": "52bcb6eb-bb1f-46d9-b1d8-8cb47b6a6a45",
       "origId": 0,
       "parentHierarchy": [],
       "pivotAggregation": null,
       "pivotColumns": null,
       "position": 2.0,
       "resultDbfsErrorMessage": null,
       "resultDbfsStatus": "INLINED_IN_TREE",
       "results": null,
       "showCommandTitle": false,
       "startTime": 0,
       "state": "input",
       "streamStates": {},
       "subcommandOptions": {
        "queryPlan": {
         "groups": [
          {
           "column": "is_latest",
           "type": "column"
          }
         ],
         "selects": [
          {
           "column": "is_latest",
           "type": "column"
          },
          {
           "alias": "column_dcd950db98",
           "args": [
            {
             "column": "count(*)",
             "type": "column"
            }
           ],
           "function": "SUM",
           "type": "function"
          }
         ]
        }
       },
       "submitTime": 0,
       "subtype": "tableResultSubCmd.visualization",
       "tableResultIndex": 0,
       "tableResultSettingsMap": {},
       "useConsistentColors": false,
       "version": "CommandV1",
       "width": "auto",
       "workflows": null,
       "xColumns": null,
       "yColumns": null
      }
     },
     "output_type": "display_data"
    }
   ],
   "source": [
    "df = spark.sql(\"select is_latest, count(*) from databricks_catalog.silver.complaints group by is_latest\")\n",
    "display(df)"
   ]
  },
  {
   "cell_type": "code",
   "execution_count": 0,
   "metadata": {
    "application/vnd.databricks.v1+cell": {
     "cellMetadata": {
      "byteLimit": 2048000,
      "rowLimit": 10000
     },
     "inputWidgets": {},
     "nuid": "1b2f344f-6732-4572-9a34-8b14d395f85c",
     "showTitle": false,
     "tableResultSettingsMap": {},
     "title": ""
    }
   },
   "outputs": [],
   "source": [
    "latest_df = spark.sql(\"select * from databricks_catalog.silver.complaints where is_latest = true\")"
   ]
  },
  {
   "cell_type": "code",
   "execution_count": 0,
   "metadata": {
    "application/vnd.databricks.v1+cell": {
     "cellMetadata": {
      "byteLimit": 2048000,
      "rowLimit": 10000
     },
     "inputWidgets": {},
     "nuid": "6a65317e-8372-4946-a608-a7c8fe6e0c8c",
     "showTitle": false,
     "tableResultSettingsMap": {},
     "title": ""
    }
   },
   "outputs": [
    {
     "output_type": "display_data",
     "data": {
      "text/plain": [
       "Databricks visualization. Run in Databricks to view."
      ]
     },
     "metadata": {
      "application/vnd.databricks.v1.subcommand+json": {
       "baseErrorDetails": null,
       "bindings": {},
       "collapsed": false,
       "command": "%python\n__backend_agg_display_orig = display\n__backend_agg_dfs = []\ndef __backend_agg_display_new(df):\n    __backend_agg_df_modules = [\"pandas.core.frame\", \"databricks.koalas.frame\", \"pyspark.sql.dataframe\", \"pyspark.pandas.frame\", \"pyspark.sql.connect.dataframe\"]\n    if (type(df).__module__ in __backend_agg_df_modules and type(df).__name__ == 'DataFrame') or isinstance(df, list):\n        __backend_agg_dfs.append(df)\n\ndisplay = __backend_agg_display_new\n\ndef __backend_agg_user_code_fn():\n    import base64\n    exec(base64.standard_b64decode(\"ZnJvbSBweXNwYXJrLnNxbC5mdW5jdGlvbnMgaW1wb3J0IGNvbCwgc3VtIGFzIHNwYXJrX3N1bQoKaWRfY29sdW1ucyA9IFsnY29tcGxhaW50X2lkJywgJ2RhdGVfcmVjZWl2ZWQnLCAnc3ViX2lzc3VlJywgJ2NvbXBhbnlfcHVibGljX3Jlc3BvbnNlJywgJ2NvbnN1bWVyX2NvbnNlbnRfcHJvdmlkZWQnLCAnY29uc3VtZXJfY29tcGxhaW50X25hcnJhdGl2ZSddCgppZF9jb2xzID0gWydkYXRlX3JlY2VpdmVkJywncHJvZHVjdCcsJ3N1Yl9wcm9kdWN0JywnaXNzdWUnLCdzdWJfaXNzdWUnLCdjb25zdW1lcl9jb21wbGFpbnRfbmFycmF0aXZlJywnY29tcGFueV9wdWJsaWNfcmVzcG9uc2UnLCdjb21wYW55Jywnc3RhdGUnLCd6aXBfY29kZScsJ2NvbnN1bWVyX2NvbnNlbnRfcHJvdmlkZWQnLCdzdWJtaXR0ZWRfdmlhJywnZGF0ZV9zZW50X3RvX2NvbXBhbnknLCdjb21wYW55X3Jlc3BvbnNlX3RvX2NvbnN1bWVyJywndGltZWx5X3Jlc3BvbnNlJywnY29tcGxhaW50X2lkJ10KCm51bGxfY291bnRfZGYgPSBsYXRlc3RfZGYuc2VsZWN0KFsoc3Bhcmtfc3VtKGNvbChjKS5pc051bGwoKS5jYXN0KCJpbnQiKSkpLmFsaWFzKGMpIGZvciBjIGluIGlkX2NvbHNdKQpkaXNwbGF5KG51bGxfY291bnRfZGYp\").decode())\n\ntry:\n    # run user code\n    __backend_agg_user_code_fn()\n\n    #reset display function\n    display = __backend_agg_display_orig\n\n    if len(__backend_agg_dfs) > 0:\n        # create a temp view\n        if type(__backend_agg_dfs[0]).__module__ == \"databricks.koalas.frame\":\n            # koalas dataframe\n            __backend_agg_dfs[0].to_spark().createOrReplaceTempView(\"DatabricksViewc0f33aa\")\n        elif type(__backend_agg_dfs[0]).__module__ == \"pandas.core.frame\" or isinstance(__backend_agg_dfs[0], list):\n            # pandas dataframe\n            spark.createDataFrame(__backend_agg_dfs[0]).createOrReplaceTempView(\"DatabricksViewc0f33aa\")\n        else:\n            __backend_agg_dfs[0].createOrReplaceTempView(\"DatabricksViewc0f33aa\")\n        #run backend agg\n        display(spark.sql(\"\"\"WITH q AS (select * from DatabricksViewc0f33aa) SELECT SUM(`date_received`) `column_dcd950db41`,SUM(`product`) `column_dcd950db44`,SUM(`sub_product`) `column_dcd950db47`,SUM(`issue`) `column_dcd950db50`,SUM(`sub_issue`) `column_dcd950db53`,SUM(`consumer_complaint_narrative`) `column_dcd950db56`,SUM(`company_public_response`) `column_dcd950db59`,SUM(`company`) `column_dcd950db62`,SUM(`state`) `column_dcd950db65`,SUM(`zip_code`) `column_dcd950db68`,SUM(`consumer_consent_provided`) `column_dcd950db71`,SUM(`submitted_via`) `column_dcd950db74`,SUM(`date_sent_to_company`) `column_dcd950db77`,SUM(`company_response_to_consumer`) `column_dcd950db80`,SUM(`timely_response`) `column_dcd950db83`,SUM(`complaint_id`) `column_dcd950db86` FROM q GROUP BY GROUPING SETS (())\"\"\"))\n    else:\n        displayHTML(\"dataframe no longer exists. If you're using dataframe.display(), use display(dataframe) instead.\")\n\n\nfinally:\n    spark.sql(\"drop view if exists DatabricksViewc0f33aa\")\n    display = __backend_agg_display_orig\n    del __backend_agg_display_new\n    del __backend_agg_display_orig\n    del __backend_agg_dfs\n    del __backend_agg_user_code_fn\n\n",
       "commandTitle": "NULLS in latest records",
       "commandType": "auto",
       "commandVersion": 0,
       "commentThread": [],
       "commentsVisible": false,
       "contentSha256Hex": null,
       "customPlotOptions": {
        "redashChart": [
         {
          "key": "type",
          "value": "CHART"
         },
         {
          "key": "options",
          "value": {
           "alignYAxesAtZero": true,
           "coefficient": 1,
           "columnConfigurationMap": {
            "y": [
             {
              "column": "date_received",
              "id": "column_dcd950db41",
              "transform": "SUM"
             },
             {
              "column": "product",
              "id": "column_dcd950db44",
              "transform": "SUM"
             },
             {
              "column": "sub_product",
              "id": "column_dcd950db47",
              "transform": "SUM"
             },
             {
              "column": "issue",
              "id": "column_dcd950db50",
              "transform": "SUM"
             },
             {
              "column": "sub_issue",
              "id": "column_dcd950db53",
              "transform": "SUM"
             },
             {
              "column": "consumer_complaint_narrative",
              "id": "column_dcd950db56",
              "transform": "SUM"
             },
             {
              "column": "company_public_response",
              "id": "column_dcd950db59",
              "transform": "SUM"
             },
             {
              "column": "company",
              "id": "column_dcd950db62",
              "transform": "SUM"
             },
             {
              "column": "state",
              "id": "column_dcd950db65",
              "transform": "SUM"
             },
             {
              "column": "zip_code",
              "id": "column_dcd950db68",
              "transform": "SUM"
             },
             {
              "column": "consumer_consent_provided",
              "id": "column_dcd950db71",
              "transform": "SUM"
             },
             {
              "column": "submitted_via",
              "id": "column_dcd950db74",
              "transform": "SUM"
             },
             {
              "column": "date_sent_to_company",
              "id": "column_dcd950db77",
              "transform": "SUM"
             },
             {
              "column": "company_response_to_consumer",
              "id": "column_dcd950db80",
              "transform": "SUM"
             },
             {
              "column": "timely_response",
              "id": "column_dcd950db83",
              "transform": "SUM"
             },
             {
              "column": "complaint_id",
              "id": "column_dcd950db86",
              "transform": "SUM"
             }
            ]
           },
           "dateTimeFormat": "DD/MM/YYYY HH:mm",
           "direction": {
            "type": "counterclockwise"
           },
           "error_y": {
            "type": "data",
            "visible": true
           },
           "globalSeriesType": "column",
           "isAggregationOn": true,
           "legend": {
            "traceorder": "normal"
           },
           "missingValuesAsZero": true,
           "numberFormat": "0,0.[00000]",
           "percentFormat": "0[.]00%",
           "series": {
            "error_y": {
             "type": "data",
             "visible": true
            },
            "stacking": null
           },
           "seriesOptions": {
            "column_dcd950db38": {
             "type": "column",
             "yAxis": 0
            },
            "column_dcd950db41": {
             "type": "column",
             "yAxis": 0
            },
            "column_dcd950db44": {
             "type": "column",
             "yAxis": 0
            },
            "column_dcd950db47": {
             "type": "column",
             "yAxis": 0
            },
            "column_dcd950db50": {
             "type": "column",
             "yAxis": 0
            },
            "column_dcd950db53": {
             "type": "column",
             "yAxis": 0
            },
            "column_dcd950db56": {
             "type": "column",
             "yAxis": 0
            },
            "column_dcd950db59": {
             "type": "column",
             "yAxis": 0
            },
            "column_dcd950db62": {
             "type": "column",
             "yAxis": 0
            },
            "column_dcd950db65": {
             "type": "column",
             "yAxis": 0
            },
            "column_dcd950db68": {
             "type": "column",
             "yAxis": 0
            },
            "column_dcd950db71": {
             "type": "column",
             "yAxis": 0
            },
            "column_dcd950db74": {
             "type": "column",
             "yAxis": 0
            },
            "column_dcd950db77": {
             "type": "column",
             "yAxis": 0
            },
            "column_dcd950db80": {
             "type": "column",
             "yAxis": 0
            },
            "column_dcd950db83": {
             "type": "column",
             "yAxis": 0
            },
            "column_dcd950db86": {
             "type": "column",
             "yAxis": 0
            }
           },
           "showDataLabels": false,
           "sizemode": "diameter",
           "sortX": true,
           "sortY": true,
           "swappedAxes": false,
           "textFormat": "",
           "useAggregationsUi": true,
           "valuesOptions": {},
           "version": 2,
           "xAxis": {
            "labels": {
             "enabled": true
            },
            "type": "-"
           },
           "yAxis": [
            {
             "type": "-"
            },
            {
             "opposite": true,
             "type": "-"
            }
           ]
          }
         }
        ]
       },
       "datasetPreviewNameToCmdIdMap": {},
       "diffDeletes": [],
       "diffInserts": [],
       "displayType": "redashChart",
       "error": null,
       "errorDetails": null,
       "errorSummary": null,
       "errorTraceType": null,
       "finishTime": 0,
       "globalVars": {},
       "guid": "",
       "height": "auto",
       "hideCommandCode": false,
       "hideCommandResult": false,
       "iPythonMetadata": null,
       "inputWidgets": {},
       "isLockedInExamMode": false,
       "latestUser": "a user",
       "latestUserId": null,
       "listResultMetadata": null,
       "metadata": {},
       "nuid": "517003d8-adf2-416b-b876-cd3e5a790b1b",
       "origId": 0,
       "parentHierarchy": [],
       "pivotAggregation": null,
       "pivotColumns": null,
       "position": 4.0,
       "resultDbfsErrorMessage": null,
       "resultDbfsStatus": "INLINED_IN_TREE",
       "results": null,
       "showCommandTitle": false,
       "startTime": 0,
       "state": "input",
       "streamStates": {},
       "subcommandOptions": {
        "queryPlan": {
         "groups": [],
         "selects": [
          {
           "alias": "column_dcd950db41",
           "args": [
            {
             "column": "date_received",
             "type": "column"
            }
           ],
           "function": "SUM",
           "type": "function"
          },
          {
           "alias": "column_dcd950db44",
           "args": [
            {
             "column": "product",
             "type": "column"
            }
           ],
           "function": "SUM",
           "type": "function"
          },
          {
           "alias": "column_dcd950db47",
           "args": [
            {
             "column": "sub_product",
             "type": "column"
            }
           ],
           "function": "SUM",
           "type": "function"
          },
          {
           "alias": "column_dcd950db50",
           "args": [
            {
             "column": "issue",
             "type": "column"
            }
           ],
           "function": "SUM",
           "type": "function"
          },
          {
           "alias": "column_dcd950db53",
           "args": [
            {
             "column": "sub_issue",
             "type": "column"
            }
           ],
           "function": "SUM",
           "type": "function"
          },
          {
           "alias": "column_dcd950db56",
           "args": [
            {
             "column": "consumer_complaint_narrative",
             "type": "column"
            }
           ],
           "function": "SUM",
           "type": "function"
          },
          {
           "alias": "column_dcd950db59",
           "args": [
            {
             "column": "company_public_response",
             "type": "column"
            }
           ],
           "function": "SUM",
           "type": "function"
          },
          {
           "alias": "column_dcd950db62",
           "args": [
            {
             "column": "company",
             "type": "column"
            }
           ],
           "function": "SUM",
           "type": "function"
          },
          {
           "alias": "column_dcd950db65",
           "args": [
            {
             "column": "state",
             "type": "column"
            }
           ],
           "function": "SUM",
           "type": "function"
          },
          {
           "alias": "column_dcd950db68",
           "args": [
            {
             "column": "zip_code",
             "type": "column"
            }
           ],
           "function": "SUM",
           "type": "function"
          },
          {
           "alias": "column_dcd950db71",
           "args": [
            {
             "column": "consumer_consent_provided",
             "type": "column"
            }
           ],
           "function": "SUM",
           "type": "function"
          },
          {
           "alias": "column_dcd950db74",
           "args": [
            {
             "column": "submitted_via",
             "type": "column"
            }
           ],
           "function": "SUM",
           "type": "function"
          },
          {
           "alias": "column_dcd950db77",
           "args": [
            {
             "column": "date_sent_to_company",
             "type": "column"
            }
           ],
           "function": "SUM",
           "type": "function"
          },
          {
           "alias": "column_dcd950db80",
           "args": [
            {
             "column": "company_response_to_consumer",
             "type": "column"
            }
           ],
           "function": "SUM",
           "type": "function"
          },
          {
           "alias": "column_dcd950db83",
           "args": [
            {
             "column": "timely_response",
             "type": "column"
            }
           ],
           "function": "SUM",
           "type": "function"
          },
          {
           "alias": "column_dcd950db86",
           "args": [
            {
             "column": "complaint_id",
             "type": "column"
            }
           ],
           "function": "SUM",
           "type": "function"
          }
         ]
        }
       },
       "submitTime": 0,
       "subtype": "tableResultSubCmd.visualization",
       "tableResultIndex": 0,
       "tableResultSettingsMap": {},
       "useConsistentColors": false,
       "version": "CommandV1",
       "width": "auto",
       "workflows": null,
       "xColumns": null,
       "yColumns": null
      }
     },
     "output_type": "display_data"
    }
   ],
   "source": [
    "from pyspark.sql.functions import col, sum as spark_sum\n",
    "\n",
    "id_cols = ['date_received','product','sub_product','issue','sub_issue','consumer_complaint_narrative','company_public_response','company','state','zip_code','consumer_consent_provided','submitted_via','date_sent_to_company','company_response_to_consumer','timely_response','complaint_id']\n",
    "\n",
    "null_count_df = latest_df.select([(spark_sum(col(c).isNull().cast(\"int\"))).alias(c) for c in id_cols])\n",
    "display(null_count_df)"
   ]
  }
 ],
 "metadata": {
  "application/vnd.databricks.v1+notebook": {
   "computePreferences": null,
   "dashboards": [
    {
     "elements": [
      {
       "dashboardResultIndex": null,
       "elementNUID": "39dc911c-bfdc-4f42-b9c0-f54cebbd181e",
       "elementType": "command",
       "guid": "11bbaa8e-2de6-460d-87aa-d8e8c8ade68b",
       "options": {
        "autoScaleImg": false,
        "scale": 0,
        "showTitle": true,
        "title": "Latest Complaints Data Profile",
        "titleAlign": "center"
       },
       "position": {
        "height": 6,
        "width": 24,
        "x": 0,
        "y": 0,
        "z": null
       },
       "resultIndex": null
      },
      {
       "dashboardResultIndex": null,
       "elementNUID": "52bcb6eb-bb1f-46d9-b1d8-8cb47b6a6a45",
       "elementType": "command",
       "guid": "388f08de-db9d-4039-bddf-50656bfd93c4",
       "options": {
        "autoScaleImg": false,
        "scale": 0,
        "showTitle": true,
        "title": "Latest Records Loaded",
        "titleAlign": "center"
       },
       "position": {
        "height": 10,
        "width": 12,
        "x": 0,
        "y": 6,
        "z": null
       },
       "resultIndex": null
      },
      {
       "dashboardResultIndex": null,
       "elementNUID": "517003d8-adf2-416b-b876-cd3e5a790b1b",
       "elementType": "command",
       "guid": "620673b0-9e61-4d6c-b40c-13c27ce5a1f2",
       "options": {
        "autoScaleImg": false,
        "scale": 0,
        "showTitle": true,
        "title": "# NULL in Latest Load",
        "titleAlign": "center"
       },
       "position": {
        "height": 10,
        "width": 12,
        "x": 12,
        "y": 6,
        "z": null
       },
       "resultIndex": null
      }
     ],
     "globalVars": {},
     "guid": "",
     "layoutOption": {
      "grid": true,
      "stack": true
     },
     "nuid": "df67e33a-f7d1-4367-9654-2d6b991c7ada",
     "origId": 7792649985078399,
     "title": "Silver Table Data Profiles",
     "version": "DashboardViewV1",
     "width": 1024
    }
   ],
   "environmentMetadata": {
    "base_environment": "",
    "environment_version": "2"
   },
   "inputWidgetPreferences": null,
   "language": "python",
   "notebookMetadata": {
    "pythonIndentUnit": 4
   },
   "notebookName": "02_Silver_Data_Profiling",
   "widgets": {}
  },
  "language_info": {
   "name": "python"
  }
 },
 "nbformat": 4,
 "nbformat_minor": 0
}
