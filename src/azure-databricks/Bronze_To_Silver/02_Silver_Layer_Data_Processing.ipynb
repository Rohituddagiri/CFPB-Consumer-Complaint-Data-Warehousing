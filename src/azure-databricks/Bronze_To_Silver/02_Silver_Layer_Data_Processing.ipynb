{
 "cells": [
  {
   "cell_type": "markdown",
   "metadata": {
    "application/vnd.databricks.v1+cell": {
     "cellMetadata": {
      "byteLimit": 2048000,
      "rowLimit": 10000
     },
     "inputWidgets": {},
     "nuid": "8c67e456-027f-4efb-a715-2f7f70f4b909",
     "showTitle": false,
     "tableResultSettingsMap": {},
     "title": ""
    }
   },
   "source": [
    "## Data Cleaning and Standardization"
   ]
  },
  {
   "cell_type": "code",
   "execution_count": 0,
   "metadata": {
    "application/vnd.databricks.v1+cell": {
     "cellMetadata": {
      "byteLimit": 2048000,
      "rowLimit": 10000
     },
     "inputWidgets": {},
     "nuid": "192c9687-9986-4d36-9998-435b5c097a91",
     "showTitle": false,
     "tableResultSettingsMap": {},
     "title": ""
    }
   },
   "outputs": [],
   "source": [
    "from pyspark.sql.functions import coalesce, lit, col\n",
    "from pyspark.sql.types import *"
   ]
  },
  {
   "cell_type": "code",
   "execution_count": 0,
   "metadata": {
    "application/vnd.databricks.v1+cell": {
     "cellMetadata": {
      "byteLimit": 2048000,
      "rowLimit": 10000
     },
     "inputWidgets": {},
     "nuid": "b4a85d57-abba-48d1-bd12-6135142a7c55",
     "showTitle": false,
     "tableResultSettingsMap": {},
     "title": ""
    }
   },
   "outputs": [],
   "source": [
    "complaints_schema = StructType([\n",
    "    StructField(\"Date received\", StringType(), True),\n",
    "    StructField(\"Product\", StringType(), True),\n",
    "    StructField(\"Sub-product\", StringType(), True),\n",
    "    StructField(\"Issue\", StringType(), True),\n",
    "    StructField(\"Sub-issue\", StringType(), True),\n",
    "    StructField(\"Consumer complaint narrative\", StringType(), True),\n",
    "    StructField(\"Company public response\", StringType(), True),\n",
    "    StructField(\"Company\", StringType(), True),\n",
    "    StructField(\"State\", StringType(), True),\n",
    "    StructField(\"ZIP code\", StringType(), True),\n",
    "    StructField(\"Tags\", StringType(), True),\n",
    "    StructField(\"Consumer consent provided?\", StringType(), True),\n",
    "    StructField(\"Submitted via\", StringType(), True),\n",
    "    StructField(\"Date sent to company\", StringType(), True),\n",
    "    StructField(\"Company response to consumer\", StringType(), True),\n",
    "    StructField(\"Timely response?\", StringType(), True),\n",
    "    StructField(\"Consumer disputed?\", StringType(), True),\n",
    "    StructField(\"Complaint ID\", StringType(), True)\n",
    "])"
   ]
  },
  {
   "cell_type": "code",
   "execution_count": 0,
   "metadata": {
    "application/vnd.databricks.v1+cell": {
     "cellMetadata": {
      "byteLimit": 2048000,
      "rowLimit": 10000
     },
     "inputWidgets": {},
     "nuid": "3b9ee877-1cd1-47c7-a3d1-e9031c7fa356",
     "showTitle": false,
     "tableResultSettingsMap": {},
     "title": ""
    }
   },
   "outputs": [],
   "source": [
    "bronze_streaming_df = spark.readStream.format(\"cloudFiles\")\\\n",
    "    .option(\"cloudFiles.format\", \"parquet\")\\\n",
    "    .schema(complaints_schema)\\\n",
    "    .option(\"cloudFiles.schemaLocation\",\"abfss://silver@rcmadls10dev.dfs.core.windows.net/checkpoint_processed_complaints\")\\\n",
    "    .load(\"abfss://bronze@rcmadls10dev.dfs.core.windows.net/complaints\")"
   ]
  },
  {
   "cell_type": "markdown",
   "metadata": {
    "application/vnd.databricks.v1+cell": {
     "cellMetadata": {
      "byteLimit": 2048000,
      "rowLimit": 10000
     },
     "inputWidgets": {},
     "nuid": "e86e3a91-4964-47f0-9401-2a0ea63f4a85",
     "showTitle": false,
     "tableResultSettingsMap": {},
     "title": ""
    }
   },
   "source": [
    "### Remove _rescued_data, Tags, Consumer Disputed Column"
   ]
  },
  {
   "cell_type": "code",
   "execution_count": 0,
   "metadata": {
    "application/vnd.databricks.v1+cell": {
     "cellMetadata": {
      "byteLimit": 2048000,
      "rowLimit": 10000
     },
     "inputWidgets": {},
     "nuid": "83c4b5b7-c7ff-4715-b279-a62320fe9dbf",
     "showTitle": false,
     "tableResultSettingsMap": {},
     "title": ""
    }
   },
   "outputs": [],
   "source": [
    "processed_df = bronze_streaming_df.drop('_rescued_data','Tags', 'Consumer disputed?')"
   ]
  },
  {
   "cell_type": "markdown",
   "metadata": {
    "application/vnd.databricks.v1+cell": {
     "cellMetadata": {
      "byteLimit": 2048000,
      "rowLimit": 10000
     },
     "inputWidgets": {},
     "nuid": "61aba28e-7055-4832-90eb-152cc69a82a5",
     "showTitle": false,
     "tableResultSettingsMap": {},
     "title": ""
    }
   },
   "source": [
    "### Rename Columns"
   ]
  },
  {
   "cell_type": "code",
   "execution_count": 0,
   "metadata": {
    "application/vnd.databricks.v1+cell": {
     "cellMetadata": {
      "byteLimit": 2048000,
      "rowLimit": 10000
     },
     "inputWidgets": {},
     "nuid": "a49d49b6-b310-49a8-b0ca-1fc532758156",
     "showTitle": false,
     "tableResultSettingsMap": {},
     "title": ""
    }
   },
   "outputs": [],
   "source": [
    "processed_df = processed_df.withColumnsRenamed({\n",
    "                            'Date received':'date_received',\n",
    "                            'Product':'product',\n",
    "                            'Sub-product':'sub_product',\n",
    "                            'Issue':'issue',\n",
    "                            'Sub-issue':'sub_issue',\n",
    "                            'Consumer complaint narrative':'consumer_complaint_narrative',\n",
    "                            'Company public response':'company_public_response',\n",
    "                            'Company':'company',\n",
    "                            'State':'state',\n",
    "                            'ZIP code':'zip_code',\n",
    "                            'Consumer consent provided?':'consumer_consent_provided',\n",
    "                            'Submitted via':'submitted_via',\n",
    "                            'Date sent to company':'date_sent_to_company',\n",
    "                            'Company response to consumer':'company_response_to_consumer',\n",
    "                            'Timely response?':'timely_response',\n",
    "                            'Complaint ID':'complaint_id'\n",
    "                          })"
   ]
  },
  {
   "cell_type": "markdown",
   "metadata": {
    "application/vnd.databricks.v1+cell": {
     "cellMetadata": {
      "byteLimit": 2048000,
      "rowLimit": 10000
     },
     "inputWidgets": {},
     "nuid": "23e27c79-0b9b-435c-9bf0-7b24a73b5400",
     "showTitle": false,
     "tableResultSettingsMap": {},
     "title": ""
    }
   },
   "source": [
    "### Adding load_date Column"
   ]
  },
  {
   "cell_type": "code",
   "execution_count": 0,
   "metadata": {
    "application/vnd.databricks.v1+cell": {
     "cellMetadata": {
      "byteLimit": 2048000,
      "rowLimit": 10000
     },
     "inputWidgets": {},
     "nuid": "ebed3c1d-665d-4dfd-a58c-a44bd0cde866",
     "showTitle": false,
     "tableResultSettingsMap": {},
     "title": ""
    }
   },
   "outputs": [],
   "source": [
    "processed_df = processed_df.withColumn('load_date', col('_metadata.file_modification_time'))"
   ]
  },
  {
   "cell_type": "markdown",
   "metadata": {
    "application/vnd.databricks.v1+cell": {
     "cellMetadata": {
      "byteLimit": 2048000,
      "rowLimit": 10000
     },
     "inputWidgets": {},
     "nuid": "898801b1-bc6b-4809-872d-ba5ce869e8b8",
     "showTitle": false,
     "tableResultSettingsMap": {},
     "title": ""
    }
   },
   "source": [
    "### Standardized Column Types"
   ]
  },
  {
   "cell_type": "code",
   "execution_count": 0,
   "metadata": {
    "application/vnd.databricks.v1+cell": {
     "cellMetadata": {
      "byteLimit": 2048000,
      "rowLimit": 10000
     },
     "inputWidgets": {},
     "nuid": "b9d647d6-7db7-40f0-bb8c-bff51ae9e632",
     "showTitle": false,
     "tableResultSettingsMap": {},
     "title": ""
    }
   },
   "outputs": [],
   "source": [
    "processed_df.createOrReplaceTempView('processed_table')"
   ]
  },
  {
   "cell_type": "code",
   "execution_count": 0,
   "metadata": {
    "application/vnd.databricks.v1+cell": {
     "cellMetadata": {
      "byteLimit": 2048000,
      "rowLimit": 10000
     },
     "inputWidgets": {},
     "nuid": "85f44cb1-6972-42b0-8437-95d300184a05",
     "showTitle": false,
     "tableResultSettingsMap": {},
     "title": ""
    }
   },
   "outputs": [],
   "source": [
    "standardized_df = spark.sql(\"\"\"\n",
    "                        SELECT\n",
    "                            cast(date_received as DATE),\n",
    "                            product,\n",
    "                            sub_product,\n",
    "                            issue,\n",
    "                            sub_issue,\n",
    "                            consumer_complaint_narrative,\n",
    "                            company_public_response,\n",
    "                            company,\n",
    "                            state,\n",
    "                            zip_code,\n",
    "                            consumer_consent_provided,\n",
    "                            submitted_via,\n",
    "                            cast(date_sent_to_company as DATE),\n",
    "                            company_response_to_consumer,\n",
    "                            cast(timely_response as BOOLEAN),\n",
    "                            cast(complaint_id as INT),\n",
    "                            cast(load_date as TIMESTAMP)\n",
    "                        FROM\n",
    "                            processed_table\n",
    "                    \"\"\")"
   ]
  },
  {
   "cell_type": "markdown",
   "metadata": {
    "application/vnd.databricks.v1+cell": {
     "cellMetadata": {
      "byteLimit": 2048000,
      "rowLimit": 10000
     },
     "inputWidgets": {},
     "nuid": "20859497-bb1c-4a55-8d85-39c666eb59ff",
     "showTitle": false,
     "tableResultSettingsMap": {},
     "title": ""
    }
   },
   "source": [
    "### Filter out NULL values from State column"
   ]
  },
  {
   "cell_type": "code",
   "execution_count": 0,
   "metadata": {
    "application/vnd.databricks.v1+cell": {
     "cellMetadata": {
      "byteLimit": 2048000,
      "rowLimit": 10000
     },
     "inputWidgets": {},
     "nuid": "5f0b3fdb-ae33-4158-90fc-8b82eb36cb78",
     "showTitle": false,
     "tableResultSettingsMap": {},
     "title": ""
    }
   },
   "outputs": [],
   "source": [
    "standardized_df = standardized_df.filter(col('state').isNotNull())"
   ]
  },
  {
   "cell_type": "markdown",
   "metadata": {
    "application/vnd.databricks.v1+cell": {
     "cellMetadata": {
      "byteLimit": 2048000,
      "rowLimit": 10000
     },
     "inputWidgets": {},
     "nuid": "ac484844-b12a-48bf-9cec-55ab7deac775",
     "showTitle": false,
     "tableResultSettingsMap": {},
     "title": ""
    }
   },
   "source": [
    "### Replace NULL values with Company has not provided public response"
   ]
  },
  {
   "cell_type": "code",
   "execution_count": 0,
   "metadata": {
    "application/vnd.databricks.v1+cell": {
     "cellMetadata": {
      "byteLimit": 2048000,
      "rowLimit": 10000
     },
     "inputWidgets": {},
     "nuid": "c7dc3460-d87b-4b86-9000-4f85c0555df4",
     "showTitle": false,
     "tableResultSettingsMap": {},
     "title": ""
    }
   },
   "outputs": [],
   "source": [
    "standardized_df = standardized_df.withColumn('company_public_response', coalesce(col('company_public_response'),lit('Company has not provided public response')))"
   ]
  },
  {
   "cell_type": "markdown",
   "metadata": {
    "application/vnd.databricks.v1+cell": {
     "cellMetadata": {
      "byteLimit": 2048000,
      "rowLimit": 10000
     },
     "inputWidgets": {},
     "nuid": "2c357753-4bd6-4bf1-88dd-6eccfa7de559",
     "showTitle": false,
     "tableResultSettingsMap": {},
     "title": ""
    }
   },
   "source": [
    "### Replace NULL values in Sub-Issue with value from Issue Column"
   ]
  },
  {
   "cell_type": "code",
   "execution_count": 0,
   "metadata": {
    "application/vnd.databricks.v1+cell": {
     "cellMetadata": {
      "byteLimit": 2048000,
      "rowLimit": 10000
     },
     "inputWidgets": {},
     "nuid": "5ebb91bc-675c-401e-ba7b-8a9a0b6be1f0",
     "showTitle": false,
     "tableResultSettingsMap": {},
     "title": ""
    }
   },
   "outputs": [],
   "source": [
    "standardized_df = standardized_df.withColumn('sub_issue', coalesce(col('sub_issue'),col('issue')))"
   ]
  },
  {
   "cell_type": "markdown",
   "metadata": {
    "application/vnd.databricks.v1+cell": {
     "cellMetadata": {
      "byteLimit": 2048000,
      "rowLimit": 10000
     },
     "inputWidgets": {},
     "nuid": "4f5df7f1-43b7-4fc9-9aaf-ecbd222a657d",
     "showTitle": false,
     "tableResultSettingsMap": {},
     "title": ""
    }
   },
   "source": [
    "### Replace NULL values in Sub-Product with value from Product Column"
   ]
  },
  {
   "cell_type": "code",
   "execution_count": 0,
   "metadata": {
    "application/vnd.databricks.v1+cell": {
     "cellMetadata": {
      "byteLimit": 2048000,
      "rowLimit": 10000
     },
     "inputWidgets": {},
     "nuid": "e6ecf1c3-f71d-4757-a5a5-c4028c1de3f6",
     "showTitle": false,
     "tableResultSettingsMap": {},
     "title": ""
    }
   },
   "outputs": [],
   "source": [
    "standardized_df = standardized_df.withColumn('sub_product',coalesce(col('sub_product'),col('product')))"
   ]
  },
  {
   "cell_type": "code",
   "execution_count": 0,
   "metadata": {
    "application/vnd.databricks.v1+cell": {
     "cellMetadata": {
      "byteLimit": 2048000,
      "rowLimit": 10000
     },
     "inputWidgets": {},
     "nuid": "3e4a6cb3-e4a9-4a23-a74e-a7e0f9f1129b",
     "showTitle": false,
     "tableResultSettingsMap": {},
     "title": ""
    }
   },
   "outputs": [],
   "source": [
    "standardized_df.writeStream.format(\"delta\")\\\n",
    "    .outputMode(\"append\")\\\n",
    "    .option(\"checkpointLocation\", \"abfss://silver@rcmadls10dev.dfs.core.windows.net/checkpoint_processed_complaints\")\\\n",
    "    .option(\"path\", \"abfss://silver@rcmadls10dev.dfs.core.windows.net/processed_complaints\")\\\n",
    "    .trigger(once=True)\\\n",
    "    .start()"
   ]
  }
 ],
 "metadata": {
  "application/vnd.databricks.v1+notebook": {
   "computePreferences": null,
   "dashboards": [],
   "environmentMetadata": {
    "base_environment": "",
    "environment_version": "2"
   },
   "inputWidgetPreferences": null,
   "language": "python",
   "notebookMetadata": {
    "pythonIndentUnit": 4
   },
   "notebookName": "02_Silver_Layer_Data_Processing",
   "widgets": {}
  },
  "language_info": {
   "name": "python"
  }
 },
 "nbformat": 4,
 "nbformat_minor": 0
}
